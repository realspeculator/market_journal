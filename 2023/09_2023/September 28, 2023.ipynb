{
 "cells": [
  {
   "cell_type": "markdown",
   "id": "64459310-2aaf-4bba-a368-08e43c2b8199",
   "metadata": {},
   "source": [
    "### September 28, 2023"
   ]
  },
  {
   "cell_type": "markdown",
   "id": "0d5fd1d2-e167-4791-bbb6-7f3a0dfccdba",
   "metadata": {},
   "source": [
    "As mentioned in yesterda's update we got a selloff and the a rally back at the resistance level, indicating that we are finding value between these two levels.\n",
    "\n",
    "In the overnight session we did not see a breach of this resistance and we are currently trading about 0.65% below this price.\n",
    "\n",
    "Markets are poised to open at the lower end of yesterdays range and we could again see a re-test if yesterdays low's\n",
    "\n",
    "Overnight we also saw long term interest move up as high as 4.65% on the 10-Year treasury. As cost of capital keeps going up, rates sensitive stocks especially in the Nasdaq Index will find it difficult to move higher.\n",
    "\n",
    "Apple stock is likely to open below $170. This stock is not seeing any bid and it will weigh in on the Nasdaq.\n",
    "\n",
    "Another stock that keeps making low is AMZN \n"
   ]
  },
  {
   "cell_type": "markdown",
   "id": "9d6605d0-f416-4718-8e35-0c3871f72c13",
   "metadata": {},
   "source": [
    "#### Update 9:32AM\n",
    "\n",
    "Apple opened below \\\\$170 and now trading at \\\\$168. This no doubt trigger many stops. Could it bounce back after hunting all the stops? Keep an eye if it finds value at 168 or bounces back above 170."
   ]
  },
  {
   "cell_type": "markdown",
   "id": "a24cc9eb-3b61-43f5-a830-46d214da2579",
   "metadata": {},
   "source": [
    "#### Update 10:23AM\n",
    "\n",
    "We are still running up against the resistance at 356 on the QQQ. Ticks are not printing higher than 500. We need to see these firmly above the 500, if this trend shows signs of reversal. \n",
    "\n",
    "Apple did manage to reject the $167, and rallied up into yesterday's range. \n",
    "\n",
    "But it is still trading lower by almost 1%. \n",
    "\n",
    "We need to see some value to start building in the 170 - 172 range to confirm some reversal in Apple.\n",
    "\n",
    "<img src=\"https://s3.tradingview.com/snapshots/w/wua302rE.png\">"
   ]
  },
  {
   "cell_type": "markdown",
   "id": "c91dbcb6-a45b-4476-845c-e9cb878980ce",
   "metadata": {},
   "source": [
    "<img src=\"https://s3.tradingview.com/snapshots/g/gjISUhh5.png\">"
   ]
  },
  {
   "cell_type": "markdown",
   "id": "83c8da2a-5503-440a-848c-7a1f4b0807b8",
   "metadata": {},
   "source": [
    "### Update 10:47AM\n",
    "\n",
    "There seems to be some buying in Apple. Perhaps short covering or new buyers, Who knows? and who cares? All we see is that Apple has rejected the 167.62 low and if it holds this level by the end of the day we will get a hammer pattern for Apple.\n",
    "\n",
    "But we need to see Apple create a new balance area at the higher range 172-170 to be sure.\n",
    "\n",
    "<img src=\"https://s3.tradingview.com/snapshots/u/UQXs2PyF.png\">"
   ]
  },
  {
   "cell_type": "markdown",
   "id": "f430ae20-be99-4e40-8148-5f3c504b6ab4",
   "metadata": {},
   "source": [
    "#### Update 11:10AM\n",
    "\n",
    "Apple is continuing to show strong gains and building a small area of value (shaded red) higher than the previous balance area.\n",
    "\n",
    "Its important to see whether Apple can hold this area, and not go back in the lower balance area."
   ]
  },
  {
   "cell_type": "markdown",
   "id": "6042d318-bbec-4779-8dbb-08024be6bffc",
   "metadata": {},
   "source": [
    "<img src=\"https://s3.tradingview.com/snapshots/j/jK3mBTBw.png\">"
   ]
  },
  {
   "cell_type": "markdown",
   "id": "ef3b7be6-66c5-4c7a-9e07-57f42cc0a6b0",
   "metadata": {},
   "source": [
    "#### Update 11:34AM\n",
    "\n",
    "We are now testing a breakout above the resistance level. Apple is almost at 171 and QQQ are at 358. Look for a small balance to form and then take a trade in the direction of the breakout.\n",
    "\n",
    "<img src=\"https://s3.tradingview.com/snapshots/b/BlBq2PGB.png\">"
   ]
  },
  {
   "cell_type": "code",
   "execution_count": null,
   "id": "ed8688db-6489-49bf-9909-00bd809a34f7",
   "metadata": {},
   "outputs": [],
   "source": []
  }
 ],
 "metadata": {
  "kernelspec": {
   "display_name": "Python 3 (ipykernel)",
   "language": "python",
   "name": "python3"
  },
  "language_info": {
   "codemirror_mode": {
    "name": "ipython",
    "version": 3
   },
   "file_extension": ".py",
   "mimetype": "text/x-python",
   "name": "python",
   "nbconvert_exporter": "python",
   "pygments_lexer": "ipython3",
   "version": "3.10.11"
  }
 },
 "nbformat": 4,
 "nbformat_minor": 5
}
