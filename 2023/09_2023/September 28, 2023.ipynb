{
 "cells": [
  {
   "cell_type": "markdown",
   "id": "64459310-2aaf-4bba-a368-08e43c2b8199",
   "metadata": {},
   "source": [
    "### September 28, 2023"
   ]
  },
  {
   "cell_type": "markdown",
   "id": "0d5fd1d2-e167-4791-bbb6-7f3a0dfccdba",
   "metadata": {},
   "source": [
    "As mentioned in yesterda's update we got a selloff and the a rally back at the resistance level, indicating that we are finding value between these two levels.\n",
    "\n",
    "In the overnight session we did not see a breach of this resistance and we are currently trading about 0.65% below this price.\n",
    "\n",
    "Markets are poised to open at the lower end of yesterdays range and we could again see a re-test if yesterdays low's\n",
    "\n",
    "Overnight we also saw long term interest move up as high as 4.65% on the 10-Year treasury. As cost of capital keeps going up, rates sensitive stocks especially in the Nasdaq Index will find it difficult to move higher.\n",
    "\n",
    "Apple stock is likely to open below $170. This stock is not seeing any bid and it will weigh in on the Nasdaq.\n",
    "\n",
    "Another stock that keeps making low is AMZN \n"
   ]
  },
  {
   "cell_type": "markdown",
   "id": "9d6605d0-f416-4718-8e35-0c3871f72c13",
   "metadata": {},
   "source": [
    "#### Update 9:32AM\n",
    "\n",
    "Apple opened below \\\\$170 and now trading at \\\\$168. This no doubt trigger many stops. Could it bounce back after hunting all the stops? Keep an eye if it finds value at 168 or bounces back above 170."
   ]
  },
  {
   "cell_type": "markdown",
   "id": "a24cc9eb-3b61-43f5-a830-46d214da2579",
   "metadata": {},
   "source": [
    "#### Update 10:23AM\n",
    "\n",
    "We are still running up against the resistance at 356 on the QQQ. Ticks are not printing higher than 500. We need to see these firmly above the 500, if this trend shows signs of reversal. \n",
    "\n",
    "Apple did manage to reject the $167, and rallied up into yesterday's range. \n",
    "\n",
    "But it is still trading lower by almost 1%. \n",
    "\n",
    "We need to see some value to start building in the 170 - 172 range to confirm some reversal in Apple.\n",
    "\n",
    "<img src=\"https://s3.tradingview.com/snapshots/w/wua302rE.png\">"
   ]
  },
  {
   "cell_type": "markdown",
   "id": "c91dbcb6-a45b-4476-845c-e9cb878980ce",
   "metadata": {},
   "source": [
    "<img src=\"https://s3.tradingview.com/snapshots/g/gjISUhh5.png\">"
   ]
  },
  {
   "cell_type": "code",
   "execution_count": null,
   "id": "1e521437-7206-401e-baeb-801ed1a9aa6e",
   "metadata": {},
   "outputs": [],
   "source": []
  }
 ],
 "metadata": {
  "kernelspec": {
   "display_name": "Python 3 (ipykernel)",
   "language": "python",
   "name": "python3"
  },
  "language_info": {
   "codemirror_mode": {
    "name": "ipython",
    "version": 3
   },
   "file_extension": ".py",
   "mimetype": "text/x-python",
   "name": "python",
   "nbconvert_exporter": "python",
   "pygments_lexer": "ipython3",
   "version": "3.10.11"
  }
 },
 "nbformat": 4,
 "nbformat_minor": 5
}
