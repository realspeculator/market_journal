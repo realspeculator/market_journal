{
 "cells": [
  {
   "cell_type": "markdown",
   "id": "d48f5f12-4aae-444c-b33f-fbac2aee777b",
   "metadata": {},
   "source": [
    "## September 29, 2023\n",
    "\n",
    "#### Update 6:05AM"
   ]
  },
  {
   "cell_type": "markdown",
   "id": "30e267ff-f8f4-4c9d-aede-aecf9b5e33ab",
   "metadata": {},
   "source": [
    "It is 6:05am ET and the Nasdaq E-mini Futures are trading at 14950. This is above yesterday's high and very close to the 15030 resistance that we mentioned in the `September 25, 2023` note at 11:18AM update. This price of 15030 is around 360-362 in QQQ terms (not exact calculation).\n",
    "\n",
    "Its always good to see the big picture. So below chart is the 4H chart for the Nasdaq futures.\n",
    "\n",
    "<img src=\"https://s3.tradingview.com/snapshots/y/ynpbEXZn.png\">\n",
    "\n"
   ]
  },
  {
   "cell_type": "markdown",
   "id": "a87c03e1-ac64-4c03-87a4-2e7fbb66668f",
   "metadata": {},
   "source": [
    "As we can see we are are currently trading at the high end of the 4 day trading range. And we would be very surprised we just break though the high of this 15030 (but we should be prepared for that possibility). A more likely scenario could be that we see a formation of a balance are between 15030 and 14850 (1.3% - 1.5% range). This will be consistent with formation of a Cup and Handle which we have historically seen as a formation at the major reversals.\n",
    "\n",
    "We are still long Nasdaq Futures and will look to add some stock if we do indeed break higher (which is where our current market bias is)."
   ]
  },
  {
   "cell_type": "markdown",
   "id": "9ff919d9-f08e-479a-8ef4-d57f89e41eba",
   "metadata": {},
   "source": [
    "#### Update 8:45AM\n",
    "\n",
    "The Nasdaq Futures are breaking out. We are now trading around 15000 level. More importantly here is where major stocks are trading in the pre-market.\n",
    "\n",
    "- AAPL \\\\$172.55\n",
    "- AMZN \\\\$128.15\n",
    "- MSFT \\\\$316.61"
   ]
  },
  {
   "cell_type": "markdown",
   "id": "23a701af-0dea-4de6-bbd2-5d277c18a155",
   "metadata": {},
   "source": [
    "#### Update 8:54AM\n",
    "\n",
    "Its looking more likely that we will be trading on the long side.\n",
    "\n",
    "#### Update 9:15AM\n",
    "\n",
    "We are now up against the 15000-15030 resistance level. We would like to see how the Markets behave at this level and if breaks the resistance or pulls back\n",
    "\n",
    "If it breaks then there is a big possibility of rallying 700 point over the next week or 2.\n",
    "\n",
    "If we pullback, then we have to see how deep the pullback is. As a bull you'll want to see the pullback not fall below the 148000 level. In short as a bull you want to see the market create a balance area in the handle part of the cup and handle pattern.\n",
    "\n",
    "Today is also the last trading day of the month of september so it is somewhat unlikely that we break the resistance. But as the portfolio managers rebalance their portfolios for October then we could see a break of this resistance. If your time horizon is only a few hours to a day then going long at this price could have a small reward (if we stay below the 15030 level)\n",
    "\n",
    "<img src=\"https://s3.tradingview.com/snapshots/o/oNoW0im7.png\">"
   ]
  },
  {
   "cell_type": "markdown",
   "id": "224b7ea9-96a2-4464-99e6-c1f77faed178",
   "metadata": {},
   "source": [
    "#### Update 9:35AM\n",
    "\n",
    "Went long 4363.75 on the S&P 500 E-mini contracts\n",
    "\n",
    "<img src=\"https://s3.tradingview.com/snapshots/9/9FrSlGRG.png\">"
   ]
  },
  {
   "cell_type": "markdown",
   "id": "ba5f82ad-6e61-4bba-b88d-d357bcef46fd",
   "metadata": {},
   "source": [
    "#### Update 10:15AM\n",
    "\n",
    "The Nasdaq traded as high as 15060 and now its trading at 15020, if you're a bull this is a good sign if we can manage to balance between 15030-15060.\n",
    "\n",
    "Similarly the S&P e-minis are balancing between 4371 to 4360."
   ]
  },
  {
   "cell_type": "code",
   "execution_count": null,
   "id": "c777c021-025a-4a67-a9ee-ee70d2f8e891",
   "metadata": {},
   "outputs": [],
   "source": []
  }
 ],
 "metadata": {
  "kernelspec": {
   "display_name": "Python 3 (ipykernel)",
   "language": "python",
   "name": "python3"
  },
  "language_info": {
   "codemirror_mode": {
    "name": "ipython",
    "version": 3
   },
   "file_extension": ".py",
   "mimetype": "text/x-python",
   "name": "python",
   "nbconvert_exporter": "python",
   "pygments_lexer": "ipython3",
   "version": "3.10.11"
  }
 },
 "nbformat": 4,
 "nbformat_minor": 5
}
