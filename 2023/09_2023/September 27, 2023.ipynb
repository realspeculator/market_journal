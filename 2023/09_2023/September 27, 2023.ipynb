{
 "cells": [
  {
   "cell_type": "code",
   "execution_count": 1,
   "id": "332ac595-8ad1-4b06-b392-e6da20d1ebb6",
   "metadata": {},
   "outputs": [],
   "source": [
    "from IPython.display import Image"
   ]
  },
  {
   "cell_type": "markdown",
   "id": "893f70e4-7f02-42c5-9015-5e9994b21840",
   "metadata": {},
   "source": [
    "## September 26, 2023"
   ]
  },
  {
   "cell_type": "markdown",
   "id": "8b516136-a350-457e-bc74-72cb88634da8",
   "metadata": {},
   "source": [
    "We broke lower from the larger area balance (see Balance Area 1 below) between 15040 and 14800 on the Nasdaq 100 E-mini futures.\n",
    "\n",
    "Then yesterday we formed 2 more balance areas (Area 2 and Area 3). It was a slow drip selling throughout the day until around 3:30PM ET when we saw buyers step and rally into the close at 14709.\n",
    "\n",
    "Overnight we saw two more balance areas form (4 and 5) during the Asian an European session. \n",
    "\n",
    "We are currently coming into what seems like a resistance at 14780.\n",
    "\n",
    "A break above this resistance will give us some confidence to go long, with a stop below the balance area 5.\n",
    "\n",
    "On the flip side, if we are trading on the short side then we should have this level (14780 - 14800 area) as our stoploss price."
   ]
  },
  {
   "cell_type": "markdown",
   "id": "6d95b954-00fe-4f9e-a850-07fbd27f84e2",
   "metadata": {},
   "source": [
    "<img src=\"https://s3.tradingview.com/snapshots/b/bgQPoyWV.png\">"
   ]
  },
  {
   "cell_type": "markdown",
   "id": "8bb3b703-1ae0-494b-9fdf-f44b85326d05",
   "metadata": {},
   "source": [
    "### 8:35am Update\n",
    "\n",
    "We are still below the Main balance area 1 and below the resistance price of 14800"
   ]
  },
  {
   "cell_type": "markdown",
   "id": "f0b67544-f965-46a8-bc7f-99db666582f0",
   "metadata": {},
   "source": [
    "<img src=\"https://s3.tradingview.com/snapshots/u/UWelN0Hc.png\">"
   ]
  },
  {
   "cell_type": "markdown",
   "id": "2384f172-2e79-42f7-8ee9-10f1c2ab5389",
   "metadata": {},
   "source": [
    "### Update 8:30AM\n",
    "\n",
    "We opened within yesterday's value and are now probing the 14780-14800 area.\n",
    "\n",
    "This is a KEY RESISTANCE area."
   ]
  }
 ],
 "metadata": {
  "kernelspec": {
   "display_name": "Python 3 (ipykernel)",
   "language": "python",
   "name": "python3"
  },
  "language_info": {
   "codemirror_mode": {
    "name": "ipython",
    "version": 3
   },
   "file_extension": ".py",
   "mimetype": "text/x-python",
   "name": "python",
   "nbconvert_exporter": "python",
   "pygments_lexer": "ipython3",
   "version": "3.10.11"
  }
 },
 "nbformat": 4,
 "nbformat_minor": 5
}
