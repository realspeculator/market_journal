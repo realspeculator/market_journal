{
 "cells": [
  {
   "cell_type": "code",
   "execution_count": 1,
   "id": "332ac595-8ad1-4b06-b392-e6da20d1ebb6",
   "metadata": {},
   "outputs": [],
   "source": [
    "from IPython.display import Image"
   ]
  },
  {
   "cell_type": "markdown",
   "id": "893f70e4-7f02-42c5-9015-5e9994b21840",
   "metadata": {},
   "source": [
    "## September 26, 2023"
   ]
  },
  {
   "cell_type": "markdown",
   "id": "8b516136-a350-457e-bc74-72cb88634da8",
   "metadata": {},
   "source": [
    "We broke lower from the larger area balance (see Balance Area 1 below) between 15040 and 14800 on the Nasdaq 100 E-mini futures.\n",
    "\n",
    "Then yesterday we formed 2 more balance areas (Area 2 and Area 3). It was a slow drip selling throughout the day until around 3:30PM ET when we saw buyers step and rally into the close at 14709.\n",
    "\n",
    "Overnight we saw two more balance areas form (4 and 5) during the Asian an European session. \n",
    "\n",
    "We are currently coming into what seems like a resistance at 14780.\n",
    "\n",
    "A break above this resistance will give us some confidence to go long, with a stop below the balance area 5.\n",
    "\n",
    "On the flip side, if we are trading on the short side then we should have this level (14780 - 14800 area) as our stoploss price."
   ]
  },
  {
   "cell_type": "markdown",
   "id": "6d95b954-00fe-4f9e-a850-07fbd27f84e2",
   "metadata": {},
   "source": [
    "<img src=\"https://s3.tradingview.com/snapshots/b/bgQPoyWV.png\">"
   ]
  },
  {
   "cell_type": "markdown",
   "id": "8bb3b703-1ae0-494b-9fdf-f44b85326d05",
   "metadata": {},
   "source": [
    "### 8:35am Update\n",
    "\n",
    "We are still below the Main balance area 1 and below the resistance price of 14800"
   ]
  },
  {
   "cell_type": "markdown",
   "id": "f0b67544-f965-46a8-bc7f-99db666582f0",
   "metadata": {},
   "source": [
    "<img src=\"https://s3.tradingview.com/snapshots/u/UWelN0Hc.png\">"
   ]
  },
  {
   "cell_type": "markdown",
   "id": "533a9c87-dfa7-4d0e-b530-438e4ffb9b63",
   "metadata": {},
   "source": [
    "<img src=\"https://s3.tradingview.com/snapshots/u/UWelN0Hc.png\">"
   ]
  },
  {
   "cell_type": "markdown",
   "id": "e0ff4119-6617-4ec8-9456-83c0f047d08c",
   "metadata": {},
   "source": [
    "<img src=\"https://s3.tradingview.com/snapshots/u/UWelN0Hc.png\">"
   ]
  },
  {
   "cell_type": "markdown",
   "id": "fb1e73e1-e064-4224-a3a5-cce25f7d8590",
   "metadata": {},
   "source": [
    "<img src=\"https://s3.tradingview.com/snapshots/u/UWelN0Hc.png\">"
   ]
  },
  {
   "cell_type": "markdown",
   "id": "82f18a3a-1b50-49de-a8d9-c3def03a6c91",
   "metadata": {},
   "source": [
    "<img src=\"https://s3.tradingview.com/snapshots/u/UWelN0Hc.png\">"
   ]
  },
  {
   "cell_type": "markdown",
   "id": "6f1d834e-d319-4c58-a5ce-b90557220de0",
   "metadata": {},
   "source": [
    "<img src=\"https://s3.tradingview.com/snapshots/u/UWelN0Hc.png\">"
   ]
  },
  {
   "cell_type": "markdown",
   "id": "45227983-468d-48c1-b7cb-7875308147a6",
   "metadata": {},
   "source": [
    "<img src=\"https://s3.tradingview.com/snapshots/u/UWelN0Hc.png\">"
   ]
  },
  {
   "cell_type": "markdown",
   "id": "426a93ae-2f63-4e35-b35a-ec54b739c71e",
   "metadata": {},
   "source": [
    "<img src=\"https://s3.tradingview.com/snapshots/u/UWelN0Hc.png\">"
   ]
  },
  {
   "cell_type": "markdown",
   "id": "355e8626-812c-47e7-856a-10c94f36e61a",
   "metadata": {},
   "source": [
    "<img src=\"https://s3.tradingview.com/snapshots/u/UWelN0Hc.png\">"
   ]
  },
  {
   "cell_type": "markdown",
   "id": "13437be3-f764-481e-9a69-fe5a9c42a9a4",
   "metadata": {},
   "source": [
    "<img src=\"https://s3.tradingview.com/snapshots/u/UWelN0Hc.png\">"
   ]
  },
  {
   "cell_type": "markdown",
   "id": "f3a6d101-3ce3-4405-a04e-b054147b0d64",
   "metadata": {},
   "source": [
    "<img src=\"https://s3.tradingview.com/snapshots/u/UWelN0Hc.png\">"
   ]
  },
  {
   "cell_type": "markdown",
   "id": "814ca2f2-2613-4e6e-8313-c4488f2c92e5",
   "metadata": {},
   "source": [
    "<img src=\"https://s3.tradingview.com/snapshots/u/UWelN0Hc.png\">"
   ]
  },
  {
   "cell_type": "markdown",
   "id": "acfff5df-cda5-429f-9086-83ab92093df6",
   "metadata": {},
   "source": [
    "<img src=\"https://s3.tradingview.com/snapshots/u/UWelN0Hc.png\">"
   ]
  },
  {
   "cell_type": "markdown",
   "id": "82e285dc-7976-43f9-86d1-7d396fee9b45",
   "metadata": {},
   "source": [
    "<img src=\"https://s3.tradingview.com/snapshots/u/UWelN0Hc.png\">"
   ]
  },
  {
   "cell_type": "markdown",
   "id": "cd1b8a89-bba8-4cf7-ac32-39f2454dcf09",
   "metadata": {},
   "source": [
    "<img src=\"https://s3.tradingview.com/snapshots/u/UWelN0Hc.png\">"
   ]
  },
  {
   "cell_type": "markdown",
   "id": "9c848331-52ca-42f1-b22c-26601d34ddd0",
   "metadata": {},
   "source": [
    "<img src=\"https://s3.tradingview.com/snapshots/u/UWelN0Hc.png\">"
   ]
  },
  {
   "cell_type": "markdown",
   "id": "526d1a57-ec44-4634-905a-a7e22d21a861",
   "metadata": {},
   "source": [
    "<img src=\"https://s3.tradingview.com/snapshots/u/UWelN0Hc.png\">"
   ]
  },
  {
   "cell_type": "markdown",
   "id": "8761cb1e-654a-4ab3-97dd-286a55342c54",
   "metadata": {},
   "source": [
    "<img src=\"https://s3.tradingview.com/snapshots/u/UWelN0Hc.png\">"
   ]
  },
  {
   "cell_type": "markdown",
   "id": "9dd32145-68d5-4aa3-b828-8a5cc34e5eb1",
   "metadata": {},
   "source": [
    "<img src=\"https://s3.tradingview.com/snapshots/u/UWelN0Hc.png\">"
   ]
  },
  {
   "cell_type": "markdown",
   "id": "77df636a-3bfa-47c1-9525-d75153174d07",
   "metadata": {},
   "source": [
    "<img src=\"https://s3.tradingview.com/snapshots/u/UWelN0Hc.png\">"
   ]
  },
  {
   "cell_type": "markdown",
   "id": "40551932-75f9-4a7b-ac19-96ea00a2d1f1",
   "metadata": {},
   "source": [
    "<img src=\"https://s3.tradingview.com/snapshots/u/UWelN0Hc.png\">"
   ]
  },
  {
   "cell_type": "markdown",
   "id": "ea1d248a-ae16-489f-9f33-d83ce37c0dca",
   "metadata": {},
   "source": [
    "<img src=\"https://s3.tradingview.com/snapshots/u/UWelN0Hc.png\">"
   ]
  }
 ],
 "metadata": {
  "kernelspec": {
   "display_name": "Python 3 (ipykernel)",
   "language": "python",
   "name": "python3"
  },
  "language_info": {
   "codemirror_mode": {
    "name": "ipython",
    "version": 3
   },
   "file_extension": ".py",
   "mimetype": "text/x-python",
   "name": "python",
   "nbconvert_exporter": "python",
   "pygments_lexer": "ipython3",
   "version": "3.10.11"
  }
 },
 "nbformat": 4,
 "nbformat_minor": 5
}
