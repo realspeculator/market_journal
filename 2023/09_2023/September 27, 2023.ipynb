{
 "cells": [
  {
   "cell_type": "markdown",
   "id": "893f70e4-7f02-42c5-9015-5e9994b21840",
   "metadata": {},
   "source": [
    "## September 26, 2023"
   ]
  },
  {
   "cell_type": "markdown",
   "id": "8b516136-a350-457e-bc74-72cb88634da8",
   "metadata": {},
   "source": [
    "We broke lower from the larger area balance (see Balance Area 1 below) between 15040 and 14800 on the Nasdaq 100 E-mini futures.\n",
    "\n",
    "Then yesterday we formed 2 more balance areas (Area 2 and Area 3). It was a slow drip selling throughout the day until around 3:30PM ET when we saw buyers step and rally into the close at 14709.\n",
    "\n",
    "Overnight we saw two more balance areas form (4 and 5) during the Asian an European session. \n",
    "\n",
    "We are currently coming into what seems like a resistance at 14780.\n",
    "\n",
    "A break above this resistance will give us some confidence to go long, with a stop below the balance area 5.\n",
    "\n",
    "On the flip side, if we are trading on the short side then we should have this level (14780 - 14800 area) as our stoploss price."
   ]
  },
  {
   "cell_type": "markdown",
   "id": "6d95b954-00fe-4f9e-a850-07fbd27f84e2",
   "metadata": {},
   "source": [
    "<img src=\"https://s3.tradingview.com/snapshots/b/bgQPoyWV.png\">"
   ]
  },
  {
   "cell_type": "markdown",
   "id": "8bb3b703-1ae0-494b-9fdf-f44b85326d05",
   "metadata": {},
   "source": [
    "### 8:35am Update\n",
    "\n",
    "We are still below the Main balance area 1 and below the resistance price of 14800"
   ]
  },
  {
   "cell_type": "markdown",
   "id": "f0b67544-f965-46a8-bc7f-99db666582f0",
   "metadata": {},
   "source": [
    "<img src=\"https://s3.tradingview.com/snapshots/u/UWelN0Hc.png\">"
   ]
  },
  {
   "cell_type": "markdown",
   "id": "2384f172-2e79-42f7-8ee9-10f1c2ab5389",
   "metadata": {},
   "source": [
    "### Update 8:30AM\n",
    "\n",
    "We opened within yesterday's value and are now probing the 14780-14800 area.\n",
    "\n",
    "This is a KEY RESISTANCE area. Its 355-356 on the QQQ\n",
    "\n",
    "<img src=\"https://s3.tradingview.com/snapshots/4/4cXw6WaK.png\">"
   ]
  },
  {
   "cell_type": "markdown",
   "id": "9f48ba49-474d-444c-b63d-4587efc17063",
   "metadata": {},
   "source": [
    "We just traded above the $356 level on the QQQ and we could be looking for a rally today, if this price level is not quickly rejected. We will be going long here if we see futher strength. We also have to be careful that this could be a triggering STOPs exercise. "
   ]
  },
  {
   "cell_type": "markdown",
   "id": "1e2c5ee7-5fec-44c7-8abc-b953d593a309",
   "metadata": {},
   "source": [
    "<img src=\"https://s3.tradingview.com/snapshots/f/fiIMXP6U.png\">"
   ]
  },
  {
   "cell_type": "markdown",
   "id": "176cc1b9-a12b-4c84-b2e1-4847285d8d1e",
   "metadata": {},
   "source": [
    "Here is the problem with the start of this rally. Even though the $TICK is above 900. AAPL stock is currently trading at 171.5 - 172. Which is keeping a lid on the this bid.\n",
    "\n",
    "<img src=\"https://s3.tradingview.com/snapshots/r/rErEoqFT.png\">"
   ]
  },
  {
   "cell_type": "markdown",
   "id": "cba84f23-f64a-4c27-9e37-c15e67698c4c",
   "metadata": {},
   "source": [
    "### Update 10:26am\n",
    "\n",
    "Apple saw a good bit of selling. for the first 45 mins of trading. The price dropped more than 1.45% in that time. This also caused the breakout to not materialize in QQQ. Now Apple is seeing some bounce back, will this continue and help trigger a short cover rally in the overall market.\n",
    "\n",
    "Again we need to trade with conviction above $356 on QQQ. "
   ]
  },
  {
   "cell_type": "markdown",
   "id": "8e8724ae-2e22-464d-8e30-28ad989bf84d",
   "metadata": {},
   "source": [
    "<img src=\"https://s3.tradingview.com/snapshots/2/23JDNc67.png\">"
   ]
  },
  {
   "cell_type": "markdown",
   "id": "8d04d361-fb7b-405c-9c90-d74a8a84e0ab",
   "metadata": {},
   "source": [
    "### Update 8:00PM\n",
    "\n",
    "We saw further selloff as the day progressed. The intial session from (9:30am to 1:30pm) was all one side selloff (thanks in part to AAPL, MSFT, AMZN). But after 1:30pm the selloff subsided and we saw a reversal and a short cover rally that took us back to the 356-357 area. We did see some profit taking from 3pm to 4pm. Curretnly we are back to resistance area of $356.\n",
    "\n",
    "Plan for tomorrow is to see how the overnight session plays out and where we get the opening print.\n",
    "\n",
    "To recap\n",
    "\n",
    "- If we Open above $356-357 area, we will have a bullish bias and will add to our position\n",
    "- If prices stay firmly below the resistance area than that will indicate that the lower prices are not seen as a bargain but an acceptance of this new reality and we will remain bearish.\n",
    "\n",
    "\n",
    "<img src=\"https://s3.tradingview.com/snapshots/t/TqkPvZCf.png\">"
   ]
  },
  {
   "cell_type": "code",
   "execution_count": null,
   "id": "142908cd-5280-4722-a268-d1ddc56bc2f6",
   "metadata": {},
   "outputs": [],
   "source": []
  }
 ],
 "metadata": {
  "kernelspec": {
   "display_name": "Python 3 (ipykernel)",
   "language": "python",
   "name": "python3"
  },
  "language_info": {
   "codemirror_mode": {
    "name": "ipython",
    "version": 3
   },
   "file_extension": ".py",
   "mimetype": "text/x-python",
   "name": "python",
   "nbconvert_exporter": "python",
   "pygments_lexer": "ipython3",
   "version": "3.10.11"
  }
 },
 "nbformat": 4,
 "nbformat_minor": 5
}
