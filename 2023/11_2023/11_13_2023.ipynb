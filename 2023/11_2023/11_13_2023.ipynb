{
 "cells": [
  {
   "cell_type": "markdown",
   "id": "144d9d64-183a-4051-bd85-991d86b4ad52",
   "metadata": {},
   "source": [
    "### November 13, 2023\n",
    "\n",
    "#### Update 9:48AM\n",
    "\n",
    "- Closed the ZB short trade\n",
    "- Initiated short TSLA trade"
   ]
  },
  {
   "cell_type": "code",
   "execution_count": null,
   "id": "2eec7167-6363-44e7-aebf-f9e3d25f6834",
   "metadata": {},
   "outputs": [],
   "source": []
  }
 ],
 "metadata": {
  "kernelspec": {
   "display_name": "Python 3 (ipykernel)",
   "language": "python",
   "name": "python3"
  },
  "language_info": {
   "codemirror_mode": {
    "name": "ipython",
    "version": 3
   },
   "file_extension": ".py",
   "mimetype": "text/x-python",
   "name": "python",
   "nbconvert_exporter": "python",
   "pygments_lexer": "ipython3",
   "version": "3.10.11"
  }
 },
 "nbformat": 4,
 "nbformat_minor": 5
}
