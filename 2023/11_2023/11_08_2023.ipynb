{
 "cells": [
  {
   "cell_type": "markdown",
   "id": "6d8257c1-e7a1-4c05-ab85-1d01d4dae634",
   "metadata": {},
   "source": [
    "<img src=\"https://www.tradingview.com/x/guT6MMqM/\">"
   ]
  },
  {
   "cell_type": "markdown",
   "id": "df87f49d-990b-4d93-ba95-636bfb3efe09",
   "metadata": {},
   "source": [
    "#### Update 5:00AM\n",
    "\n",
    "- Since Aug 2023 we have been trending lower in a channel\n",
    "- During this time we were also attempting 3 cup and handle formation\n",
    "- We were getting lower lows and lower highs\n",
    "- But since Oct 26 lows SPY is trying to make a higher high by taking out the October 2023 high, but we have to be patient to let value form at this high\n",
    "- Since Nov 2023 we are also forming a balance between 4350 to 4400, so we could just as well bounce between this 50 point range\n",
    "- This balance could extent beyond this 50 point range and last 8 to 10 days"
   ]
  },
  {
   "cell_type": "code",
   "execution_count": null,
   "id": "82cb061c-3bc4-4433-a91f-a0697fbdeec5",
   "metadata": {},
   "outputs": [],
   "source": []
  }
 ],
 "metadata": {
  "kernelspec": {
   "display_name": "Python 3 (ipykernel)",
   "language": "python",
   "name": "python3"
  },
  "language_info": {
   "codemirror_mode": {
    "name": "ipython",
    "version": 3
   },
   "file_extension": ".py",
   "mimetype": "text/x-python",
   "name": "python",
   "nbconvert_exporter": "python",
   "pygments_lexer": "ipython3",
   "version": "3.10.11"
  }
 },
 "nbformat": 4,
 "nbformat_minor": 5
}
