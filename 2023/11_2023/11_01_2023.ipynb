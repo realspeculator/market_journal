{
 "cells": [
  {
   "cell_type": "markdown",
   "id": "c973c600-9ae6-4f09-bd9c-8737cdf7a08e",
   "metadata": {},
   "source": [
    "### November 1, 2023"
   ]
  },
  {
   "cell_type": "markdown",
   "id": "d2543089-8e72-4a44-bf46-ba1bd09ba07a",
   "metadata": {},
   "source": [
    "#### 8:10AM Update\n",
    "\n",
    "SPY Chart - Trendline broken\n",
    "\n",
    "<img src=\"https://www.tradingview.com/x/UN9NXFtb/\">\n",
    "\n",
    "\n",
    "Delayed ES 5 min Chart - Value is getting formed lower\n",
    "\n",
    "<img src=\"https://www.tradingview.com/x/KEbk4BmD/\">\n",
    "\n",
    "- ES has continued the pullback after making the high yesterday afternoon\n",
    "- The pullback is deeper than what was anticipated by us\n",
    "- We should have kept a smaller position\n",
    "- The value area is getting formed at a lower level\n",
    "- We have the FOMC meeting today and we could see wild swings in prices which warrants that we do not hold such a large position"
   ]
  },
  {
   "cell_type": "markdown",
   "id": "c9549983-3352-4470-bb77-03903877ef5e",
   "metadata": {},
   "source": [
    "#### Update 8:13AM\n",
    "\n",
    "<img src=\"https://www.tradingview.com/x/2Fcn5Ap4/\">\n",
    "\n",
    "- CL was breaking lower yesterday, but is now rallying\n",
    "- The escalation of conflict in the ME remains a big risk for our short trade\n",
    "- It is still below the trendline and testing the previous value area"
   ]
  },
  {
   "cell_type": "markdown",
   "id": "5a4d54aa-2178-432c-ad22-63f8471e9b49",
   "metadata": {},
   "source": [
    "#### Update 8:38 AM\n",
    "\n",
    "<img src=\"https://www.tradingview.com/x/CPHCu7Xf/\">\n",
    "\n",
    "<img src=\"https://www.tradingview.com/x/CZDbNNCH/\">\n",
    "\n",
    "- Around 8:30AM we saw a big rally in several markets\n",
    "- ES rallied from 4200 - 4215 in a matter of minutes\n",
    "- ES is now at the high of yesterday\n",
    "- We will watch if this value is formed here or we break lower"
   ]
  },
  {
   "cell_type": "markdown",
   "id": "68c27022-cb42-4e02-9a72-7b519348dbe8",
   "metadata": {},
   "source": [
    "#### Update 9:12AM\n",
    "\n",
    "<img src=https://www.tradingview.com/x/zHPH5gpd/>\n",
    "\n",
    "- We are seeing some acceptance of values in this region\n",
    "- After making a high of 4217 S dropped 10 point all the way to 4207\n",
    "- Since then it has managed to bounce back\n",
    "- We are 15 mins away from the open and if we hold above 4217 then we will be gapping higher\n",
    "- Then we will have to watch if the prices continue to move higher upto 4250 or we go back into yesterday's range"
   ]
  },
  {
   "cell_type": "markdown",
   "id": "0042ab7a-86d5-4510-b7db-c6b5d0f6e5b6",
   "metadata": {},
   "source": [
    "#### Update 9:33 AM\n",
    "\n",
    "- ES has gapped up and traded as high as 4224 (which was our target yesterday).\n",
    "- The decision to close the long ES certainly hurts, but we should be mindful and not buy into this rally right away\n",
    "- We are seeing TICK at -139 and VOLD is -170\n",
    "- Internals are not signaling a confirmed buy."
   ]
  },
  {
   "cell_type": "markdown",
   "id": "4420848d-6c97-4620-bccb-05d062679f55",
   "metadata": {},
   "source": [
    "#### Update 9:41AM\n",
    "\n",
    "- Russell 2000 is down 0.78%\n",
    "- Dow is flat\n",
    "- SP500 is up 0.15%\n",
    "- Nasdaq is up 0.38%\n",
    "\n",
    "- Not a broad based rally. We could see ES close the gap and revert back into yesterday's range\n",
    "- But we have the 10am Econ data and then 2pm FOMC announcement looming"
   ]
  },
  {
   "cell_type": "markdown",
   "id": "2f337597-dd7a-4b85-a8cd-1e8c5cfd682c",
   "metadata": {},
   "source": [
    "#### Update 9:56AM\n",
    "\n",
    "- Went short 50 ES at 4227.75\n",
    "- We believe this will be the higher extreme of a new balance are between 4215 - 4227"
   ]
  },
  {
   "cell_type": "markdown",
   "id": "46cb2240-41c8-450d-8d78-52b88f32f526",
   "metadata": {},
   "source": [
    "#### Update 10:00AM\n",
    "\n",
    "- ISM manufacturing came in below expectation at 46.7, showing a contraction\n",
    "- ES traded as high as 4234 and were quickly rejected.\n",
    "- Still short 50 ES and other short positions"
   ]
  },
  {
   "cell_type": "code",
   "execution_count": null,
   "id": "9ef63f0f-6351-4a8c-9c9f-4c6ba505b7da",
   "metadata": {},
   "outputs": [],
   "source": []
  }
 ],
 "metadata": {
  "kernelspec": {
   "display_name": "Python 3 (ipykernel)",
   "language": "python",
   "name": "python3"
  },
  "language_info": {
   "codemirror_mode": {
    "name": "ipython",
    "version": 3
   },
   "file_extension": ".py",
   "mimetype": "text/x-python",
   "name": "python",
   "nbconvert_exporter": "python",
   "pygments_lexer": "ipython3",
   "version": "3.10.11"
  }
 },
 "nbformat": 4,
 "nbformat_minor": 5
}
