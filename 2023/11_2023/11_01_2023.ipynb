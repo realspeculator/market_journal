{
 "cells": [
  {
   "cell_type": "markdown",
   "id": "c973c600-9ae6-4f09-bd9c-8737cdf7a08e",
   "metadata": {},
   "source": [
    "### November 1, 2023"
   ]
  },
  {
   "cell_type": "markdown",
   "id": "d2543089-8e72-4a44-bf46-ba1bd09ba07a",
   "metadata": {},
   "source": [
    "#### 8:10AM Update\n",
    "\n",
    "SPY Chart - Trendline broken\n",
    "\n",
    "<img src=\"https://www.tradingview.com/x/UN9NXFtb/\">\n",
    "\n",
    "\n",
    "Delayed ES 5 min Chart - Value is getting formed lower\n",
    "\n",
    "<img src=\"https://www.tradingview.com/x/KEbk4BmD/\">\n",
    "\n",
    "- ES has continued the pullback after making the high yesterday afternoon\n",
    "- The pullback is deeper than what was anticipated by us\n",
    "- We should have kept a smaller position\n",
    "- The value area is getting formed at a lower level\n",
    "- We have the FOMC meeting today and we could see wild swings in prices which warrants that we do not hold such a large position"
   ]
  },
  {
   "cell_type": "markdown",
   "id": "c9549983-3352-4470-bb77-03903877ef5e",
   "metadata": {},
   "source": [
    "#### Update 8:13AM\n",
    "\n",
    "<img src=\"https://www.tradingview.com/x/2Fcn5Ap4/\">\n",
    "\n",
    "- CL was breaking lower yesterday, but is now rallying\n",
    "- The escalation of conflict in the ME remains a big risk for our short trade\n",
    "- It is still below the trendline and testing the previous value area"
   ]
  },
  {
   "cell_type": "markdown",
   "id": "5a4d54aa-2178-432c-ad22-63f8471e9b49",
   "metadata": {},
   "source": [
    "#### Update 8:38 AM\n",
    "\n",
    "<img src=\"https://www.tradingview.com/x/CPHCu7Xf/\">\n",
    "\n",
    "<img src=\"https://www.tradingview.com/x/CZDbNNCH/\">\n",
    "\n",
    "- Around 8:30AM we saw a big rally in several markets\n",
    "- ES rallied from 4200 - 4215 in a matter of minutes\n",
    "- ES is now at the high of yesterday\n",
    "- We will watch if this value is formed here or we break lower"
   ]
  },
  {
   "cell_type": "markdown",
   "id": "68c27022-cb42-4e02-9a72-7b519348dbe8",
   "metadata": {},
   "source": [
    "#### Update 9:12AM\n",
    "\n",
    "<img src=https://www.tradingview.com/x/zHPH5gpd/>\n",
    "\n",
    "- We are seeing some acceptance of values in this region\n",
    "- After making a high of 4217 S dropped 10 point all the way to 4207\n",
    "- Since then it has managed to bounce back\n",
    "- We are 15 mins away from the open and if we hold above 4217 then we will be gapping higher\n",
    "- Then we will have to watch if the prices continue to move higher upto 4250 or we go back into yesterday's range"
   ]
  },
  {
   "cell_type": "markdown",
   "id": "0042ab7a-86d5-4510-b7db-c6b5d0f6e5b6",
   "metadata": {},
   "source": [
    "#### Update 9:33 AM\n",
    "\n",
    "- ES has gapped up and traded as high as 4224 (which was our target yesterday).\n",
    "- The decision to close the long ES certainly hurts, but we should be mindful and not buy into this rally right away\n",
    "- We are seeing TICK at -139 and VOLD is -170\n",
    "- Internals are not signaling a confirmed buy."
   ]
  },
  {
   "cell_type": "markdown",
   "id": "4420848d-6c97-4620-bccb-05d062679f55",
   "metadata": {},
   "source": [
    "#### Update 9:41AM\n",
    "\n",
    "- Russell 2000 is down 0.78%\n",
    "- Dow is flat\n",
    "- SP500 is up 0.15%\n",
    "- Nasdaq is up 0.38%\n",
    "\n",
    "- Not a broad based rally. We could see ES close the gap and revert back into yesterday's range\n",
    "- But we have the 10am Econ data and then 2pm FOMC announcement looming"
   ]
  },
  {
   "cell_type": "markdown",
   "id": "2f337597-dd7a-4b85-a8cd-1e8c5cfd682c",
   "metadata": {},
   "source": [
    "#### Update 9:56AM\n",
    "\n",
    "- Went short 50 ES at 4227.75\n",
    "- We believe this will be the higher extreme of a new balance are between 4215 - 4227"
   ]
  },
  {
   "cell_type": "markdown",
   "id": "46cb2240-41c8-450d-8d78-52b88f32f526",
   "metadata": {},
   "source": [
    "#### Update 10:00AM\n",
    "\n",
    "- ISM manufacturing came in below expectation at 46.7, showing a contraction\n",
    "- ES traded as high as 4234 and were quickly rejected.\n",
    "- Still short 50 ES and other short positions"
   ]
  },
  {
   "cell_type": "markdown",
   "id": "14322a2d-7878-4727-bcd6-fa889c8e4177",
   "metadata": {},
   "source": [
    "#### Update 10:30AM\n",
    "\n",
    "- ES has continued to rally and is now close to the 4250 resistance\n",
    "- Bonds are continuing to rally as well\n",
    "- TICK are close to +1000 and VOLD is also +775\n",
    "- Its interesting to see this rally few hours before the FOMC statement"
   ]
  },
  {
   "cell_type": "markdown",
   "id": "0a413e6b-922b-41bd-86e6-65a0060cbff3",
   "metadata": {},
   "source": [
    "#### Update 10:37AM\n",
    "\n",
    "<img src=\"https://www.tradingview.com/x/JefHaEjx/\">\n",
    "\n",
    "- Sold another 50 ES short around 4245, avg cost for 100 ES short is 4235\n",
    "- Why sell more, because we are heading into a resistance area"
   ]
  },
  {
   "cell_type": "markdown",
   "id": "023f09b3-3ca6-4a32-82cd-50f703167f98",
   "metadata": {},
   "source": [
    "#### Update 11:00AM\n",
    "\n",
    "- TICK is now below -100, VOLD is still at 875\n",
    "- TSLA below 200\n",
    "- ES is now trying to create value around 4242"
   ]
  },
  {
   "cell_type": "markdown",
   "id": "cb84536e-fb99-466e-95da-45c518e6425e",
   "metadata": {},
   "source": [
    "#### Update 11:30AM\n",
    "\n",
    "<img src=\"https://www.tradingview.com/x/P9GYe9uo/\">\n",
    "\n",
    "- ES has now back off 17 point from the high to about 4233\n",
    "- TICK is -150 and VOLD is 550\n",
    "- TSLA still below 200 and some of our shorts are showing profits for the day."
   ]
  },
  {
   "cell_type": "markdown",
   "id": "aca8e647-580a-46e7-ab48-9ee736d1b433",
   "metadata": {},
   "source": [
    "#### Update 1:00PM\n",
    "\n",
    "<img src=\"https://www.tradingview.com/x/0vWOKIXD/\">\n",
    "\n",
    "- ES has now pulled 20 point since the HOD\n",
    "- Crude is also below 82\n",
    "- TSLA above 201\n",
    "- Some more of the short stocks are now showing profit\n",
    "- We will close the short ES trade before the FOMC announcement"
   ]
  },
  {
   "cell_type": "markdown",
   "id": "eae2d4f6-a5ce-450e-bdaf-9f84011cffba",
   "metadata": {},
   "source": [
    "#### Update 1:25PM\n",
    "\n",
    "- Closed the short ES trade"
   ]
  },
  {
   "cell_type": "markdown",
   "id": "064a2039-7ae1-4b96-833b-89902baea42e",
   "metadata": {},
   "source": [
    "#### Update 2:04PM\n",
    "\n",
    "- As expected rates remain unchanged\n",
    "- Markets are balancing between 14 point range 4226 - 4240. Nothing much."
   ]
  },
  {
   "cell_type": "markdown",
   "id": "a8875e5d-764b-4934-b027-817f4f954fba",
   "metadata": {},
   "source": [
    "#### Update 2:16PM\n",
    "\n",
    "- ES is making its move towards the 4223, a break below this level will be something to watch.\n",
    "- CL broke the 81 level again\n",
    "- TSLA still holding 200 level."
   ]
  },
  {
   "cell_type": "code",
   "execution_count": null,
   "id": "9bb7d26e-bb28-4617-a156-2290202d54c1",
   "metadata": {},
   "outputs": [],
   "source": []
  }
 ],
 "metadata": {
  "kernelspec": {
   "display_name": "Python 3 (ipykernel)",
   "language": "python",
   "name": "python3"
  },
  "language_info": {
   "codemirror_mode": {
    "name": "ipython",
    "version": 3
   },
   "file_extension": ".py",
   "mimetype": "text/x-python",
   "name": "python",
   "nbconvert_exporter": "python",
   "pygments_lexer": "ipython3",
   "version": "3.10.11"
  }
 },
 "nbformat": 4,
 "nbformat_minor": 5
}
