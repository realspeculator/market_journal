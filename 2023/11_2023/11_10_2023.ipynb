{
 "cells": [
  {
   "cell_type": "markdown",
   "id": "157041b5-dc19-4969-9c6f-5d5212e31bf3",
   "metadata": {},
   "source": [
    "### November 10, 2023"
   ]
  },
  {
   "cell_type": "markdown",
   "id": "b28ec10a-b8f6-4926-8650-061e7400b8e1",
   "metadata": {},
   "source": [
    "<img src=\"https://www.tradingview.com/x/LLwE3Fo7/\">\n",
    "\n",
    "- The S&P 500 was trading within the channel\n",
    "- Yesterday we got some meaningful pullback in the S&P \n",
    "- We want to now watch if we extend this 4 day balance of value\n",
    "\n",
    "<img src=\"https://www.tradingview.com/x/B99cmUDn/\">\n",
    "\n",
    "- When we look at the zoomed in chart we see a small balance area getting formed between 4350 to 4375 (the chart shows SPY)\n",
    "- We will look to trade the rejection of this balance and then take the trade"
   ]
  },
  {
   "cell_type": "markdown",
   "id": "ed83c13c-631e-451d-9e73-72f994059f54",
   "metadata": {},
   "source": [
    "<img src=\"https://www.tradingview.com/x/XxWfnyJv/\">"
   ]
  },
  {
   "cell_type": "code",
   "execution_count": null,
   "id": "36b7854f-ef2d-4782-bb1f-156c94325594",
   "metadata": {},
   "outputs": [],
   "source": []
  }
 ],
 "metadata": {
  "kernelspec": {
   "display_name": "Python 3 (ipykernel)",
   "language": "python",
   "name": "python3"
  },
  "language_info": {
   "codemirror_mode": {
    "name": "ipython",
    "version": 3
   },
   "file_extension": ".py",
   "mimetype": "text/x-python",
   "name": "python",
   "nbconvert_exporter": "python",
   "pygments_lexer": "ipython3",
   "version": "3.10.11"
  }
 },
 "nbformat": 4,
 "nbformat_minor": 5
}
