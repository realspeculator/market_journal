{
 "cells": [
  {
   "cell_type": "markdown",
   "id": "c973c600-9ae6-4f09-bd9c-8737cdf7a08e",
   "metadata": {},
   "source": [
    "### November 1, 2023"
   ]
  },
  {
   "cell_type": "markdown",
   "id": "d2543089-8e72-4a44-bf46-ba1bd09ba07a",
   "metadata": {},
   "source": [
    "#### 8:10AM Update\n",
    "\n",
    "SPY Chart - Trendline broken\n",
    "\n",
    "<img src=\"https://www.tradingview.com/x/UN9NXFtb/\">\n",
    "\n",
    "\n",
    "Delayed ES 5 min Chart - Value is getting formed lower\n",
    "\n",
    "<img src=\"https://www.tradingview.com/x/KEbk4BmD/\">\n",
    "\n",
    "- ES has continued the pullback after making the high yesterday afternoon\n",
    "- The pullback is deeper than what was anticipated by us\n",
    "- We should have kept a smaller position\n",
    "- The value area is getting formed at a lower level\n",
    "- We have the FOMC meeting today and we could see wild swings in prices which warrants that we do not hold such a large position"
   ]
  },
  {
   "cell_type": "code",
   "execution_count": null,
   "id": "a130c827-ce3a-40d7-9d6e-5296f8e5083b",
   "metadata": {},
   "outputs": [],
   "source": []
  }
 ],
 "metadata": {
  "kernelspec": {
   "display_name": "Python 3 (ipykernel)",
   "language": "python",
   "name": "python3"
  },
  "language_info": {
   "codemirror_mode": {
    "name": "ipython",
    "version": 3
   },
   "file_extension": ".py",
   "mimetype": "text/x-python",
   "name": "python",
   "nbconvert_exporter": "python",
   "pygments_lexer": "ipython3",
   "version": "3.10.11"
  }
 },
 "nbformat": 4,
 "nbformat_minor": 5
}
