{
 "cells": [
  {
   "cell_type": "markdown",
   "id": "28639191-aa62-4d00-a0eb-4c426e65fc6b",
   "metadata": {},
   "source": [
    "### November 7, 2023"
   ]
  },
  {
   "cell_type": "markdown",
   "id": "33578114-fd7f-4db1-b2a1-a06aafba2f31",
   "metadata": {},
   "source": [
    "<img src=\"https://www.tradingview.com/x/Ijeu0WOg/\">\n",
    "\n",
    "- The S&P 500 rallied 6.5% since October 27th low\n",
    "- This rally was fast and furious\n",
    "- Currently we are balancing since November 3\n",
    "\n",
    "- The current balance area is 4365 to 4400"
   ]
  },
  {
   "cell_type": "code",
   "execution_count": null,
   "id": "aa2be9cb-0648-40f4-9aa8-75d506a94188",
   "metadata": {},
   "outputs": [],
   "source": []
  }
 ],
 "metadata": {
  "kernelspec": {
   "display_name": "Python 3 (ipykernel)",
   "language": "python",
   "name": "python3"
  },
  "language_info": {
   "codemirror_mode": {
    "name": "ipython",
    "version": 3
   },
   "file_extension": ".py",
   "mimetype": "text/x-python",
   "name": "python",
   "nbconvert_exporter": "python",
   "pygments_lexer": "ipython3",
   "version": "3.10.11"
  }
 },
 "nbformat": 4,
 "nbformat_minor": 5
}
