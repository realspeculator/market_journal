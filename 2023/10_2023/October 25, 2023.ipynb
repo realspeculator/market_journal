{
 "cells": [
  {
   "cell_type": "markdown",
   "id": "75d2d526-1014-4f1f-b2f0-3db491456e72",
   "metadata": {},
   "source": [
    "### October 25, 2023"
   ]
  },
  {
   "cell_type": "markdown",
   "id": "6d429759-f96a-454d-969d-bd3c9a32085a",
   "metadata": {},
   "source": [
    "#### Portfolio Positions"
   ]
  },
  {
   "cell_type": "code",
   "execution_count": 1,
   "id": "119acc4c-6ef7-404f-9dc1-5155a68dca0a",
   "metadata": {},
   "outputs": [],
   "source": [
    "import pandas as pd\n",
    "import os\n",
    "import numpy as np"
   ]
  },
  {
   "cell_type": "code",
   "execution_count": 2,
   "id": "3081b788-869d-4551-9741-7babac45dec6",
   "metadata": {},
   "outputs": [],
   "source": [
    "files_list = os.listdir(\"../../../live_portfolio/2023/010_2023/\")\n",
    "files_list.remove(\".DS_Store\") # Remove Mac's .DS_Store file."
   ]
  },
  {
   "cell_type": "code",
   "execution_count": 3,
   "id": "6a7ce912-10e3-4968-b778-a0b0b01a19e3",
   "metadata": {},
   "outputs": [],
   "source": [
    "def build_files_url(files_names):\n",
    "    \n",
    "    return \"https://raw.githubusercontent.com/realspeculator/live_portfolio/main/2023/010_2023/\" + files_names\n",
    "\n",
    "def get_net_lq_value(url):\n",
    "    \n",
    "    df1 = pd.read_csv(url)\n",
    "    net_lq = df1[df1[\"DATE\"] == \"Net Liquidating Value\"].iloc[0,1]\n",
    "    net_lq = float(net_lq.replace(\"$\", \"\").replace(\",\", \"\"))\n",
    "    \n",
    "    return net_lq\n",
    "\n",
    "urls = list(map(build_files_url, files_list))"
   ]
  },
  {
   "cell_type": "code",
   "execution_count": 4,
   "id": "14e73f56-eb55-4f31-85f9-5d3332f65712",
   "metadata": {},
   "outputs": [],
   "source": [
    "df1 = pd.read_csv(urls[0])"
   ]
  },
  {
   "cell_type": "code",
   "execution_count": 5,
   "id": "7c4c0079-4432-423b-af4c-f2c98df82a2a",
   "metadata": {},
   "outputs": [],
   "source": [
    "eq_start = np.where(df1['DATE'] == \"Equities\")[0][0] + 1\n",
    "\n",
    "if np.where(df1['DATE'] == \"Futures\")[0].size == 0:\n",
    "    eq_end = (np.where(df1['DATE'] == \"Profits and Losses\")[0][0])\n",
    "else:\n",
    "    eq_end = (np.where(df1['DATE'] == \"Futures\")[0][0]) - 1\n",
    "    \n",
    "\n",
    "if np.where(df1['DATE'] == \"Futures\")[0].size == 0:\n",
    "    fut_start = (np.where(df1['DATE'] == \"Profits and Losses\")[0][0])\n",
    "else:\n",
    "    fut_start = np.where(df1['DATE'] == \"Futures\")[0][0] + 1\n",
    "    \n",
    "\n",
    "if np.where(df1['DATE'] == \"Futures\")[0].size == 0:\n",
    "    fut_end = (np.where(df1['DATE'] == \"Profits and Losses\")[0][0])\n",
    "else:\n",
    "    fut_end = np.where(df1['DATE'] == \"Profits and Losses\")[0][0] - 2\n",
    " \n",
    "# Trades Done Today\n",
    "trades_done_today_start = np.where(df1['DATE'] == \"Account Trade History\")[0][0]\n",
    "\n",
    "if np.where(df1['DATE'] == \"Futures\")[0].size == 0:\n",
    "    fut_start = (np.where(df1['DATE'] == \"Profits and Losses\")[0][0])\n",
    "else:\n",
    "    fut_start = np.where(df1['DATE'] == \"Futures\")[0][0] + 1\n",
    "\n",
    "trades_done_today_end = np.where(df1['DATE'] == \"Account Trade History\")[0][0]"
   ]
  },
  {
   "cell_type": "code",
   "execution_count": null,
   "id": "ea367240-9927-4c9a-97fc-7fda08468d87",
   "metadata": {},
   "outputs": [],
   "source": []
  },
  {
   "cell_type": "code",
   "execution_count": 6,
   "id": "ed4a79a4-651f-4ebc-9e79-3bf0fd50f44d",
   "metadata": {
    "tags": []
   },
   "outputs": [],
   "source": [
    "pos_df = df1.iloc[eq_start+1:eq_end]\n",
    "pos_df.columns = df1.iloc[eq_start].values\n",
    "pos_df = pos_df.dropna(axis=1,how='all')"
   ]
  },
  {
   "cell_type": "code",
   "execution_count": 7,
   "id": "7b5af9e2-6ac0-4291-b182-e75a24996839",
   "metadata": {},
   "outputs": [
    {
     "data": {
      "text/html": [
       "<div>\n",
       "<style scoped>\n",
       "    .dataframe tbody tr th:only-of-type {\n",
       "        vertical-align: middle;\n",
       "    }\n",
       "\n",
       "    .dataframe tbody tr th {\n",
       "        vertical-align: top;\n",
       "    }\n",
       "\n",
       "    .dataframe thead th {\n",
       "        text-align: right;\n",
       "    }\n",
       "</style>\n",
       "<table border=\"1\" class=\"dataframe\">\n",
       "  <thead>\n",
       "    <tr style=\"text-align: right;\">\n",
       "      <th></th>\n",
       "      <th>Symbol</th>\n",
       "      <th>Description</th>\n",
       "      <th>Qty</th>\n",
       "      <th>Trade Price</th>\n",
       "      <th>Mark</th>\n",
       "      <th>P/L Day</th>\n",
       "      <th>P/L Open</th>\n",
       "      <th>P/L %</th>\n",
       "      <th>Mark Value</th>\n",
       "    </tr>\n",
       "  </thead>\n",
       "  <tbody>\n",
       "    <tr>\n",
       "      <th>81</th>\n",
       "      <td>CSCO</td>\n",
       "      <td>CISCO SYSTEMS INC COM</td>\n",
       "      <td>200000</td>\n",
       "      <td>52.2</td>\n",
       "      <td>52.4</td>\n",
       "      <td>($122,000.00)</td>\n",
       "      <td>$40,000.00</td>\n",
       "      <td>+0.38%</td>\n",
       "      <td>$10,480,000.00</td>\n",
       "    </tr>\n",
       "    <tr>\n",
       "      <th>82</th>\n",
       "      <td>JNJ</td>\n",
       "      <td>JOHNSON &amp; JOHNSON COM</td>\n",
       "      <td>-70000</td>\n",
       "      <td>153</td>\n",
       "      <td>151.59</td>\n",
       "      <td>($25,200.00)</td>\n",
       "      <td>$98,700.00</td>\n",
       "      <td>+0.92%</td>\n",
       "      <td>($10,611,300.00)</td>\n",
       "    </tr>\n",
       "    <tr>\n",
       "      <th>83</th>\n",
       "      <td>NFLX</td>\n",
       "      <td>NETFLIX INC COM</td>\n",
       "      <td>10000</td>\n",
       "      <td>412.99</td>\n",
       "      <td>411.6</td>\n",
       "      <td>($21,300.00)</td>\n",
       "      <td>($13,900.00)</td>\n",
       "      <td>-0.34%</td>\n",
       "      <td>$4,116,000.00</td>\n",
       "    </tr>\n",
       "    <tr>\n",
       "      <th>84</th>\n",
       "      <td>PEP</td>\n",
       "      <td>PEPSICO INC COM</td>\n",
       "      <td>-55000</td>\n",
       "      <td>160</td>\n",
       "      <td>162.51</td>\n",
       "      <td>($17,600.00)</td>\n",
       "      <td>($138,050.00)</td>\n",
       "      <td>-1.57%</td>\n",
       "      <td>($8,938,050.00)</td>\n",
       "    </tr>\n",
       "    <tr>\n",
       "      <th>85</th>\n",
       "      <td>NKE</td>\n",
       "      <td>NIKE INC COM CL B</td>\n",
       "      <td>-50000</td>\n",
       "      <td>102.56</td>\n",
       "      <td>103.54</td>\n",
       "      <td>$82,000.00</td>\n",
       "      <td>($49,000.00)</td>\n",
       "      <td>-0.96%</td>\n",
       "      <td>($5,177,000.00)</td>\n",
       "    </tr>\n",
       "    <tr>\n",
       "      <th>86</th>\n",
       "      <td>TSLA</td>\n",
       "      <td>TESLA INC COM</td>\n",
       "      <td>-25000</td>\n",
       "      <td>216.206</td>\n",
       "      <td>212.63</td>\n",
       "      <td>$85,150.00</td>\n",
       "      <td>$89,400.00</td>\n",
       "      <td>+1.65%</td>\n",
       "      <td>($5,315,750.00)</td>\n",
       "    </tr>\n",
       "    <tr>\n",
       "      <th>87</th>\n",
       "      <td>AAPL</td>\n",
       "      <td>APPLE INC COM</td>\n",
       "      <td>-100000</td>\n",
       "      <td>174.1</td>\n",
       "      <td>171.21</td>\n",
       "      <td>$223,000.00</td>\n",
       "      <td>$289,000.00</td>\n",
       "      <td>+1.66%</td>\n",
       "      <td>($17,121,000.00)</td>\n",
       "    </tr>\n",
       "    <tr>\n",
       "      <th>88</th>\n",
       "      <td>NaN</td>\n",
       "      <td>OVERALL TOTALS</td>\n",
       "      <td>NaN</td>\n",
       "      <td>NaN</td>\n",
       "      <td>NaN</td>\n",
       "      <td>$204,050.00</td>\n",
       "      <td>$316,150.00</td>\n",
       "      <td>+0.51%</td>\n",
       "      <td>($32,567,100.00)</td>\n",
       "    </tr>\n",
       "    <tr>\n",
       "      <th>89</th>\n",
       "      <td>NaN</td>\n",
       "      <td>NaN</td>\n",
       "      <td>NaN</td>\n",
       "      <td>NaN</td>\n",
       "      <td>NaN</td>\n",
       "      <td>NaN</td>\n",
       "      <td>NaN</td>\n",
       "      <td>NaN</td>\n",
       "      <td>NaN</td>\n",
       "    </tr>\n",
       "  </tbody>\n",
       "</table>\n",
       "</div>"
      ],
      "text/plain": [
       "   Symbol            Description      Qty Trade Price    Mark        P/L Day  \\\n",
       "81   CSCO  CISCO SYSTEMS INC COM   200000        52.2    52.4  ($122,000.00)   \n",
       "82    JNJ  JOHNSON & JOHNSON COM   -70000         153  151.59   ($25,200.00)   \n",
       "83   NFLX        NETFLIX INC COM    10000      412.99   411.6   ($21,300.00)   \n",
       "84    PEP        PEPSICO INC COM   -55000         160  162.51   ($17,600.00)   \n",
       "85    NKE      NIKE INC COM CL B   -50000      102.56  103.54     $82,000.00   \n",
       "86   TSLA          TESLA INC COM   -25000     216.206  212.63     $85,150.00   \n",
       "87   AAPL          APPLE INC COM  -100000       174.1  171.21    $223,000.00   \n",
       "88    NaN         OVERALL TOTALS      NaN         NaN     NaN    $204,050.00   \n",
       "89    NaN                    NaN      NaN         NaN     NaN            NaN   \n",
       "\n",
       "         P/L Open   P/L %        Mark Value  \n",
       "81     $40,000.00  +0.38%    $10,480,000.00  \n",
       "82     $98,700.00  +0.92%  ($10,611,300.00)  \n",
       "83   ($13,900.00)  -0.34%     $4,116,000.00  \n",
       "84  ($138,050.00)  -1.57%   ($8,938,050.00)  \n",
       "85   ($49,000.00)  -0.96%   ($5,177,000.00)  \n",
       "86     $89,400.00  +1.65%   ($5,315,750.00)  \n",
       "87    $289,000.00  +1.66%  ($17,121,000.00)  \n",
       "88    $316,150.00  +0.51%  ($32,567,100.00)  \n",
       "89            NaN     NaN               NaN  "
      ]
     },
     "execution_count": 7,
     "metadata": {},
     "output_type": "execute_result"
    }
   ],
   "source": [
    "pos_df"
   ]
  },
  {
   "cell_type": "code",
   "execution_count": 8,
   "id": "1a2649c4-9897-4af4-8552-a7574d8cf096",
   "metadata": {},
   "outputs": [
    {
     "data": {
      "text/html": [
       "<div>\n",
       "<style scoped>\n",
       "    .dataframe tbody tr th:only-of-type {\n",
       "        vertical-align: middle;\n",
       "    }\n",
       "\n",
       "    .dataframe tbody tr th {\n",
       "        vertical-align: top;\n",
       "    }\n",
       "\n",
       "    .dataframe thead th {\n",
       "        text-align: right;\n",
       "    }\n",
       "</style>\n",
       "<table border=\"1\" class=\"dataframe\">\n",
       "  <thead>\n",
       "    <tr style=\"text-align: right;\">\n",
       "      <th></th>\n",
       "    </tr>\n",
       "  </thead>\n",
       "  <tbody>\n",
       "  </tbody>\n",
       "</table>\n",
       "</div>"
      ],
      "text/plain": [
       "Empty DataFrame\n",
       "Columns: []\n",
       "Index: []"
      ]
     },
     "execution_count": 8,
     "metadata": {},
     "output_type": "execute_result"
    }
   ],
   "source": [
    "fut_df = df1.iloc[fut_start+1:fut_end]\n",
    "fut_df.columns = df1.iloc[fut_start].values\n",
    "fut_df = fut_df.dropna(axis=1,how='all')\n",
    "fut_df"
   ]
  },
  {
   "cell_type": "code",
   "execution_count": null,
   "id": "1aa2eedf-fa17-44fa-8676-6d18e605d082",
   "metadata": {},
   "outputs": [],
   "source": []
  }
 ],
 "metadata": {
  "kernelspec": {
   "display_name": "Python 3 (ipykernel)",
   "language": "python",
   "name": "python3"
  },
  "language_info": {
   "codemirror_mode": {
    "name": "ipython",
    "version": 3
   },
   "file_extension": ".py",
   "mimetype": "text/x-python",
   "name": "python",
   "nbconvert_exporter": "python",
   "pygments_lexer": "ipython3",
   "version": "3.10.11"
  }
 },
 "nbformat": 4,
 "nbformat_minor": 5
}
