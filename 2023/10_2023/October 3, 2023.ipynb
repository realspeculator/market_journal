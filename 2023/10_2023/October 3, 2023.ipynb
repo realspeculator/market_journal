{
 "cells": [
  {
   "cell_type": "markdown",
   "id": "b230bffa-ce9e-4933-b6f9-af4ebf171b9f",
   "metadata": {},
   "source": [
    "### October 3, 2023\n",
    "\n",
    "The major indices are are trading very close to the pivotal points. The Nasdaq and the S&P 500 are best performers of all the 4 indicies and the Russell is the worst. \n",
    "\n",
    "- Although we saw a selloff in the last month/quarter we are seeing a great battle to hold this pivotal point level. \n",
    "- We can attribute this to the strength we are seeing in the major stocks (Google, Nvdia, Amazon, Microsoft, Meta - Apple has broken the support area but its trying to regain the pivotal point of $174)\n",
    "- The major pivotal point on the QQQ is 362-363. An gap open above this price could result in a short cover rally. "
   ]
  },
  {
   "cell_type": "markdown",
   "id": "d3162003-f836-400f-b184-b666f1242a9b",
   "metadata": {},
   "source": [
    "#### Update 8:55AM\n",
    "\n",
    "- After a small overnight bid markets are trending lower.\n",
    "- S&P 500, Nasdaq are now trading below yesterday's low.\n",
    "- We are now trading at the low end of the tight balance.\n"
   ]
  },
  {
   "cell_type": "markdown",
   "id": "519d0df2-1c6d-483f-afcf-e6cf25761b39",
   "metadata": {
    "tags": []
   },
   "source": [
    "#### Update 9:37AM\n",
    "\n",
    "- S&P opened at the lower end of yesterday's range. It is within yesterday's range, so we are waiting to see how it resolves."
   ]
  },
  {
   "cell_type": "markdown",
   "id": "87603f20-9be2-4c2e-90d1-18cae335f515",
   "metadata": {},
   "source": [
    "#### Update 10:24AM\n",
    "\n",
    "- The Dow Jones and S&P 500 just traded below September 2023 lows.\n",
    "- QQQ is still above the balance area\n",
    "\n",
    "<img src=\"https://www.tradingview.com/x/1MXF63IO/\">\n",
    "<img src=\"https://www.tradingview.com/x/thLnAkEB/\">"
   ]
  },
  {
   "cell_type": "markdown",
   "id": "abd7ae8f-e421-46d9-b751-16b1f2a4ef04",
   "metadata": {
    "tags": []
   },
   "source": [
    "#### Update 11:06AM\n",
    "\n",
    "- S&P is now down 1.4% and we think we could be heading into a very MINOR support area. Again we are not buying the futures here, but if you're short then be vary that we could see a bounce off this levels.\n",
    "\n",
    "<img src=\"https://www.tradingview.com/x/YbGNBmUm/\">"
   ]
  },
  {
   "cell_type": "markdown",
   "id": "0be1fcc1-ac82-498e-a9d2-1ae459860c94",
   "metadata": {
    "tags": []
   },
   "source": [
    "#### Update 12:05PM\n",
    "\n",
    "- We are now getting some buying activity. The ES are finding 4257 - 4271. Again this is just inventory getting back into balance."
   ]
  },
  {
   "cell_type": "markdown",
   "id": "67704062-51c2-43b3-a8ee-08f2a1a5bd29",
   "metadata": {},
   "source": [
    "#### Update 12:20PM\n",
    "\n",
    "- Went short ES at 4267. Stop at 4277"
   ]
  },
  {
   "cell_type": "markdown",
   "id": "b07da09d-dab3-4789-ac10-5c1057edb049",
   "metadata": {},
   "source": [
    "### Long Term Charts"
   ]
  },
  {
   "cell_type": "markdown",
   "id": "9e5b7b0f-7299-483f-92c2-e3e9f9e91249",
   "metadata": {},
   "source": [
    "<img src=\"https://s3.tradingview.com/snapshots/2/2WHFiKWW.png\">\n",
    "\n",
    "<img src=\"https://www.tradingview.com/x/RHS42Nin/\">\n",
    "\n",
    "<img src=\"https://www.tradingview.com/x/Dfa4C7SE/\">\n",
    "\n",
    "<img src=\"https://www.tradingview.com/x/8Xe677ak/\">\n",
    "\n",
    "<img src=\"https://www.tradingview.com/x/piOdWQeO/\">"
   ]
  },
  {
   "cell_type": "code",
   "execution_count": null,
   "id": "b985f14a-6a2b-4cf2-bf4b-8f19a4a339ed",
   "metadata": {},
   "outputs": [],
   "source": []
  }
 ],
 "metadata": {
  "kernelspec": {
   "display_name": "Python 3 (ipykernel)",
   "language": "python",
   "name": "python3"
  },
  "language_info": {
   "codemirror_mode": {
    "name": "ipython",
    "version": 3
   },
   "file_extension": ".py",
   "mimetype": "text/x-python",
   "name": "python",
   "nbconvert_exporter": "python",
   "pygments_lexer": "ipython3",
   "version": "3.10.11"
  }
 },
 "nbformat": 4,
 "nbformat_minor": 5
}
