{
 "cells": [
  {
   "cell_type": "markdown",
   "id": "a1bf7c58-4f56-4d1c-ac14-cdcf9fe7affb",
   "metadata": {},
   "source": [
    "### October 20,2023\n",
    "\n",
    "<img src=\"https://www.tradingview.com/x/Ln9JIFav/\">"
   ]
  },
  {
   "cell_type": "markdown",
   "id": "671e9273-43f2-4f82-8d40-c9b830a0a5e2",
   "metadata": {},
   "source": [
    "- After forming a reversal cup and handle values is getting formed between the 4420 to 4240 level.\n",
    "- The 200-Day MA is around 4258 level and will act as a major support level\n",
    "\n",
    "Next we will see the zoomed in view."
   ]
  },
  {
   "cell_type": "markdown",
   "id": "195e32ef-fee5-4d61-87ec-c511ccb9bafb",
   "metadata": {},
   "source": [
    "<img src=\"https://www.tradingview.com/x/0cwiPfp3/\">"
   ]
  },
  {
   "cell_type": "markdown",
   "id": "f88291ef-8998-4229-9f4b-0a9ca46d8059",
   "metadata": {},
   "source": [
    "The above chart is of 1 Hour interval.\n",
    "\n",
    "- Since October 6th (non-farm payroll) day, we were forming a cup and handle on the hourly chart. \n",
    "- Yesterday (October 19th) Powell's interview at the Economic club in NY was interpreted as hawkish. Although the market had a tough time decinding on the exact meaning/intentions from Powell.\n",
    "- We saw an elevated volatility and the ES saw 4 trips o 40 points (4320 to 4360) and eventually settled below 4300 level\n",
    "- Currently we are forming value on the hourly chart between 4300 to 4280. Our initial attention will be focused on these two extremes.\n",
    "- This level is also in the low end of yesterday's range. Although we could see a bounce back to 4320 level.\n",
    "- We will want to see where the value is getting formed."
   ]
  },
  {
   "cell_type": "code",
   "execution_count": null,
   "id": "37fe70cb-3ae1-4a98-a002-eef6fe73cb84",
   "metadata": {},
   "outputs": [],
   "source": [
    "|"
   ]
  }
 ],
 "metadata": {
  "kernelspec": {
   "display_name": "Python 3 (ipykernel)",
   "language": "python",
   "name": "python3"
  },
  "language_info": {
   "codemirror_mode": {
    "name": "ipython",
    "version": 3
   },
   "file_extension": ".py",
   "mimetype": "text/x-python",
   "name": "python",
   "nbconvert_exporter": "python",
   "pygments_lexer": "ipython3",
   "version": "3.10.11"
  }
 },
 "nbformat": 4,
 "nbformat_minor": 5
}
