{
 "cells": [
  {
   "cell_type": "markdown",
   "id": "a1bf7c58-4f56-4d1c-ac14-cdcf9fe7affb",
   "metadata": {},
   "source": [
    "### October 20,2023\n",
    "\n",
    "<img src=\"https://www.tradingview.com/x/Ln9JIFav/\">"
   ]
  },
  {
   "cell_type": "markdown",
   "id": "671e9273-43f2-4f82-8d40-c9b830a0a5e2",
   "metadata": {},
   "source": [
    "- After forming a reversal cup and handle values is getting formed between the 4420 to 4240 level.\n",
    "- The 200-Day MA is around 4258 level and will act as a major support level\n",
    "\n",
    "Next we will see the zoomed in view."
   ]
  },
  {
   "cell_type": "markdown",
   "id": "195e32ef-fee5-4d61-87ec-c511ccb9bafb",
   "metadata": {},
   "source": [
    "<img src=\"https://www.tradingview.com/x/0cwiPfp3/\">"
   ]
  },
  {
   "cell_type": "markdown",
   "id": "f88291ef-8998-4229-9f4b-0a9ca46d8059",
   "metadata": {},
   "source": [
    "The above chart is of 1 Hour interval.\n",
    "\n",
    "- Since October 6th (non-farm payroll) day, we were forming a cup and handle on the hourly chart. \n",
    "- Yesterday (October 19th) Powell's interview at the Economic club in NY was interpreted as hawkish. Although the market had a tough time decinding on the exact meaning/intentions from Powell.\n",
    "- We saw an elevated volatility and the ES saw 4 trips o 40 points (4320 to 4360) and eventually settled below 4300 level\n",
    "- Currently we are forming value on the hourly chart between 4300 to 4280. Our initial attention will be focused on these two extremes.\n",
    "- This level is also in the low end of yesterday's range. Although we could see a bounce back to 4320 level.\n",
    "- We will want to see where the value is getting formed."
   ]
  },
  {
   "cell_type": "markdown",
   "id": "3fb30138-0bcc-49d5-9d44-ca8e9943aaa1",
   "metadata": {},
   "source": [
    "#### Update 9:15AM\n",
    "\n",
    "- We have a small order to sell 10 ES contracts at Limit 4301. We will take our initial short position. "
   ]
  },
  {
   "cell_type": "markdown",
   "id": "b8a374c0-625d-4778-8f2e-a5c6636e7180",
   "metadata": {},
   "source": [
    "#### Update 9:21AM \n",
    "\n",
    "- AAPL is opening below 175. A break below 174 could be a good level to short. With a target of 168."
   ]
  },
  {
   "cell_type": "markdown",
   "id": "6012b5da-b0b3-48bd-aa42-6f887b7a4a2a",
   "metadata": {},
   "source": [
    "#### Update 9:49AM\n",
    "\n",
    "We are now short the ES, AAPL and TSLA"
   ]
  },
  {
   "cell_type": "markdown",
   "id": "7e5cf827-3612-4c8e-a479-d2330d2b2597",
   "metadata": {},
   "source": [
    "Why did we short the above?\n",
    "\n",
    "- All 3 are opening either at yesterday's low (ES) or below yesterday's low. \n",
    "- the trade will succeed if the value gets created at the lower level.\n",
    "- If we see reversion to yesterday's mean then this could lead to a loss.\n",
    "- We believe that value gets created at the lower levels. Although in case of TSLA its trading at the 200DMA."
   ]
  },
  {
   "cell_type": "markdown",
   "id": "7b4e870b-0dcd-48e1-b3ee-fed79e70a1ef",
   "metadata": {},
   "source": [
    "<img src=\"https://www.tradingview.com/x/dk1JG8wF/\">"
   ]
  },
  {
   "cell_type": "markdown",
   "id": "e77b0a80-1659-4487-9a85-167207ebe32e",
   "metadata": {},
   "source": [
    "<img src=\"https://www.tradingview.com/x/YWUWEGaM/\">"
   ]
  },
  {
   "cell_type": "markdown",
   "id": "806c827c-3f29-4754-b02a-3e95e6c150db",
   "metadata": {},
   "source": [
    "#### Update 11:49AM\n",
    "\n",
    "We closed the following shorts around 11:30AM\n",
    "\n",
    "- Closed the TSLA short at 211.63 - 3 points gain\n",
    "- Closed the ES short at 4261 - 40 points gain\n",
    "\n",
    "We expect a little bounce from the 200 DMA on both the securities. Still holding AAPL short."
   ]
  },
  {
   "cell_type": "markdown",
   "id": "306488fa-d7a4-48fc-a9ef-239a43e2fdae",
   "metadata": {},
   "source": [
    "#### Update 1:00PM\n",
    "\n",
    "- As Expected we got a 25 point bounce from 4255 to 4280. This could be a new value area for the day and we would be surprised if we see any range extention beyond this.\n",
    "- TSLA also got a 5 point jump from 210 to 215."
   ]
  },
  {
   "cell_type": "code",
   "execution_count": null,
   "id": "c284599d-bb9a-4ae1-89bb-560852641389",
   "metadata": {},
   "outputs": [],
   "source": []
  }
 ],
 "metadata": {
  "kernelspec": {
   "display_name": "Python 3 (ipykernel)",
   "language": "python",
   "name": "python3"
  },
  "language_info": {
   "codemirror_mode": {
    "name": "ipython",
    "version": 3
   },
   "file_extension": ".py",
   "mimetype": "text/x-python",
   "name": "python",
   "nbconvert_exporter": "python",
   "pygments_lexer": "ipython3",
   "version": "3.10.11"
  }
 },
 "nbformat": 4,
 "nbformat_minor": 5
}
