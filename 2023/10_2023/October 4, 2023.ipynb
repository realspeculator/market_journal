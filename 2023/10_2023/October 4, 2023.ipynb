{
 "cells": [
  {
   "cell_type": "markdown",
   "id": "97a00805-077b-49e5-a509-21311ee51d8e",
   "metadata": {},
   "source": [
    "### October 4, 2023"
   ]
  },
  {
   "cell_type": "markdown",
   "id": "f952bb7f-45da-46f8-96cc-f13cb2f7995a",
   "metadata": {},
   "source": [
    "On October 3, 2023 we saw major indices decline by more than 1.5%. They have now broken key support areas (SPY, DIA, IWM) or at trading near the lows (QQQ). \n",
    "\n",
    "At around 3am EST we saw a bid come in to the long term government bonds and at extacly the same time we are saw a bid in the major indices.\n",
    "\n",
    "Looking at the long term charts we are nearing a good support level on the S&P 500.\n",
    "\n",
    "The 4200 level was the area from which we broke out from back in May 2023. The ~4200 level also has  the 200 day moving average. \n",
    "\n",
    "We will be watching closely at 4280 which is a key pivotal level on the S&P 500 E-minis. If we are to break that price, then we could expect a short cover rally which could take us back to 4370.\n",
    "\n",
    "<img src=\"https://www.tradingview.com/x/EIQXXoqq/\">\n",
    "\n",
    "\n",
    "#### 4280 Pivot Point\n",
    "If we zoom into the 1Hour chart, we can see that 4280 was a key support level, but now could act as a new resistance level. So keep an eye on that level.\n",
    "<br>\n",
    "<br>\n",
    "<br>\n",
    "<img src=\"https://www.tradingview.com/x/oUnlRIsI/\">"
   ]
  },
  {
   "cell_type": "markdown",
   "id": "d5f3f8fe-c7c8-4baa-be64-7244e9932ce6",
   "metadata": {},
   "source": [
    "We also see that Nasdaq has seen a similar support at 14700 level.\n",
    "\n",
    "<img src=\"https://www.tradingview.com/x/G88ivwgA/\">\n",
    "\n",
    "#### Nasdaq\n",
    "\n",
    "<img src=\"https://www.tradingview.com/x/90FwljdV/\">"
   ]
  },
  {
   "cell_type": "markdown",
   "id": "c9bde7a7-dab6-46f6-b8f3-89ad33751619",
   "metadata": {},
   "source": [
    "#### Update 9:25AM\n",
    "\n",
    "- We got rejected at the ~4280 level on the ES. Currently it looks like we will open around 4271.\n",
    "\n",
    "<img src=\"https://www.tradingview.com/x/GMMEcAMb/\">"
   ]
  },
  {
   "cell_type": "code",
   "execution_count": null,
   "id": "74b8c15a-4c2c-4f5c-8a4f-d3a3b7ecd0ba",
   "metadata": {},
   "outputs": [],
   "source": []
  }
 ],
 "metadata": {
  "kernelspec": {
   "display_name": "Python 3 (ipykernel)",
   "language": "python",
   "name": "python3"
  },
  "language_info": {
   "codemirror_mode": {
    "name": "ipython",
    "version": 3
   },
   "file_extension": ".py",
   "mimetype": "text/x-python",
   "name": "python",
   "nbconvert_exporter": "python",
   "pygments_lexer": "ipython3",
   "version": "3.10.11"
  }
 },
 "nbformat": 4,
 "nbformat_minor": 5
}
