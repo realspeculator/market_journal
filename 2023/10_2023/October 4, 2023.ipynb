{
 "cells": [
  {
   "cell_type": "markdown",
   "id": "97a00805-077b-49e5-a509-21311ee51d8e",
   "metadata": {},
   "source": [
    "### October 4, 2023"
   ]
  },
  {
   "cell_type": "markdown",
   "id": "f952bb7f-45da-46f8-96cc-f13cb2f7995a",
   "metadata": {},
   "source": [
    "On October 3, 2023 we saw major indices decline by more than 1.5%. They have now broken key support areas (SPY, DIA, IWM) or at trading near the lows (QQQ). \n",
    "\n",
    "At around 3am EST we saw a bid come in to the long term government bonds and at extacly the same time we are saw a bid in the major indices.\n",
    "\n",
    "Looking at the long term charts we are nearing a good support level on the S&P 500.\n",
    "\n",
    "The 4200 level was the area from which we broke out from back in May 2023. The ~4200 level also has  the 200 day moving average. \n",
    "\n",
    "We will be watching closely at 4280 which is a key pivotal level on the S&P 500 E-minis. If we are to break that price, then we could expect a short cover rally which could take us back to 4370.\n",
    "\n",
    "<img src=\"https://www.tradingview.com/x/EIQXXoqq/\">\n",
    "\n",
    "\n",
    "#### 4280 Pivot Point\n",
    "If we zoom into the 1Hour chart, we can see that 4280 was a key support level, but now could act as a new resistance level. So keep an eye on that level.\n",
    "<br>\n",
    "<br>\n",
    "<br>\n",
    "<img src=\"https://www.tradingview.com/x/oUnlRIsI/\">"
   ]
  },
  {
   "cell_type": "markdown",
   "id": "d5f3f8fe-c7c8-4baa-be64-7244e9932ce6",
   "metadata": {},
   "source": [
    "We also see that Nasdaq has seen a similar support at 14700 level.\n",
    "\n",
    "<img src=\"https://www.tradingview.com/x/G88ivwgA/\">\n",
    "\n",
    "#### Nasdaq\n",
    "\n",
    "<img src=\"https://www.tradingview.com/x/90FwljdV/\">"
   ]
  },
  {
   "cell_type": "markdown",
   "id": "c9bde7a7-dab6-46f6-b8f3-89ad33751619",
   "metadata": {
    "tags": []
   },
   "source": [
    "#### Update 9:25AM\n",
    "\n",
    "- We got rejected at the ~4280 level on the ES. Currently it looks like we will open around 4271.\n",
    "- We need to see consolidation between 4265-4285. Then take the long trade on the break out of the 4285 price.\n",
    "\n",
    "#### Update 9:40AM Long ES\n",
    "- Went long ES at 4281.\n",
    "\n",
    "#### Update 9:48AM\n",
    "- Patience, Patience, Patience!!!! The 4282 or intra-day high did not last very long. But this time around we think there is a good probability of rallying 100 points (target 4370) in the next few of days. Since the reward is high, we will give this trade a generous stop. \n",
    "\n",
    "#### Update 10:54AM\n",
    "- Going long at 4281 was a WRONG trade location. We are still long but this is a good learning opportunity to look for balance and break of the of that balance.\n",
    "\n",
    "#### Update 12:00PM\n",
    "- Went Long few more contracts at 4286.25\n",
    "- Average cost is now 4283. Target is 4380.\n",
    "\n",
    "<img src=\"https://www.tradingview.com/x/GMMEcAMb/\">"
   ]
  },
  {
   "cell_type": "markdown",
   "id": "c718dac8-cd71-41b9-9ef4-64b0a1ed577d",
   "metadata": {},
   "source": [
    "#### Update 12:00PM Breakout???\n",
    "\n",
    "- We have been observing the 4277-4280 resistance.\n",
    "- It appears to have broken out, ES is currently trading at 4285 (below chart is delayed).\n",
    "- We need to see if this is real or fake breakout."
   ]
  },
  {
   "cell_type": "markdown",
   "id": "952d5c05-4f85-4bf0-89ce-7dc66bc13d7c",
   "metadata": {},
   "source": [
    "<img src=\"https://www.tradingview.com/x/zX9RlT0e/\">"
   ]
  },
  {
   "cell_type": "markdown",
   "id": "46cc374c-cddc-40c5-a734-d04f39bfdee9",
   "metadata": {},
   "source": [
    "#### Update 12:31PM\n",
    "\n",
    "- We got some more confirmation that this breakout is probably for real.\n",
    "- We are currently trading at 4290. We need to see the breakout of the cup and handle pattern on 5min SPY (424), shown below.\n",
    "\n",
    "<img src=\"https://www.tradingview.com/x/D8CKpgF2/\">\n",
    "\n"
   ]
  },
  {
   "cell_type": "markdown",
   "id": "7ac75fd0-bf71-4c6c-a180-7dda17805de2",
   "metadata": {},
   "source": [
    "#### Update 12:47PM\n",
    "\n",
    "- ES is coming into some resistance at 4300. We are still long. May add more if it breaks this level."
   ]
  },
  {
   "cell_type": "code",
   "execution_count": null,
   "id": "4c75ab83-a573-4497-9f93-e71b50db3ab1",
   "metadata": {},
   "outputs": [],
   "source": []
  }
 ],
 "metadata": {
  "kernelspec": {
   "display_name": "Python 3 (ipykernel)",
   "language": "python",
   "name": "python3"
  },
  "language_info": {
   "codemirror_mode": {
    "name": "ipython",
    "version": 3
   },
   "file_extension": ".py",
   "mimetype": "text/x-python",
   "name": "python",
   "nbconvert_exporter": "python",
   "pygments_lexer": "ipython3",
   "version": "3.10.11"
  }
 },
 "nbformat": 4,
 "nbformat_minor": 5
}
