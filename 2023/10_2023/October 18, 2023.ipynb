{
 "cells": [
  {
   "cell_type": "markdown",
   "id": "d30e368e-540a-474c-808b-a10cba852ced",
   "metadata": {},
   "source": [
    "### Ocotober 18, 2023"
   ]
  },
  {
   "cell_type": "markdown",
   "id": "03492591-8994-4b55-872a-2341bc1abf21",
   "metadata": {},
   "source": [
    "On October 6th 2023, we got the non-farm payroll number which was better than expected and we got a big short cover rally in the equities.\n",
    "\n",
    "After the intial selloff to 4251 low, the markets reacted with a short cover rally and closed around 4346.\n",
    "\n",
    "The rally continued "
   ]
  },
  {
   "cell_type": "markdown",
   "id": "629663b7-a8ce-476f-818d-b73de9986d6b",
   "metadata": {},
   "source": [
    "<img src=\"https://www.tradingview.com/x/jshGZ5KE/\">"
   ]
  },
  {
   "cell_type": "code",
   "execution_count": null,
   "id": "9582430e-d521-458f-ba31-d838914323d5",
   "metadata": {},
   "outputs": [],
   "source": []
  }
 ],
 "metadata": {
  "kernelspec": {
   "display_name": "Python 3 (ipykernel)",
   "language": "python",
   "name": "python3"
  },
  "language_info": {
   "codemirror_mode": {
    "name": "ipython",
    "version": 3
   },
   "file_extension": ".py",
   "mimetype": "text/x-python",
   "name": "python",
   "nbconvert_exporter": "python",
   "pygments_lexer": "ipython3",
   "version": "3.10.11"
  }
 },
 "nbformat": 4,
 "nbformat_minor": 5
}
