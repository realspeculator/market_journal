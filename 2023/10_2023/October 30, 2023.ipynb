{
 "cells": [
  {
   "cell_type": "markdown",
   "id": "1718ce29-fcfc-48e0-99fc-e4fa7396e92a",
   "metadata": {},
   "source": [
    "### October 30, 2023"
   ]
  },
  {
   "cell_type": "markdown",
   "id": "b5a2243d-b436-4a29-87f9-a80495580a13",
   "metadata": {},
   "source": [
    "#### Update 6:00AM"
   ]
  },
  {
   "cell_type": "markdown",
   "id": "e2ad55fb-222a-4406-a349-cde044169df3",
   "metadata": {},
   "source": [
    "<img src=\"https://www.tradingview.com/x/b69QmTsI/\">"
   ]
  },
  {
   "cell_type": "markdown",
   "id": "793b3cff-d906-4715-a64e-47b17a02edee",
   "metadata": {},
   "source": [
    "- We have been of the view that this selloff was overextended and markets would could see a bounce. Our reasons were\n",
    "- Prices are at the lower end channel\n",
    "- RSI is close to 30 (which many consider as an oversold signal)"
   ]
  },
  {
   "cell_type": "markdown",
   "id": "4c75cbb3-b560-463e-93d9-13ec3c228890",
   "metadata": {},
   "source": [
    "- We are heavily shorting several stocks and given our view it was important to not let this bounce reduce our gains.\n",
    "- As a result on friday (Oct 27) afternoon we initiated small long position in the ES\n",
    "- On Sunday evening we bought more ES futures at an average price around 4150\n",
    "- If this bounce does materialize then we could see ES rally upto 4175 - 4200\n"
   ]
  },
  {
   "cell_type": "markdown",
   "id": "d981fcfe-b0fd-4002-9f45-263956c01120",
   "metadata": {},
   "source": [
    "#### Update 6:42AM\n",
    "\n",
    "- Added more to the long ES position. We are now long 200 ES at an average price of 4155."
   ]
  },
  {
   "cell_type": "markdown",
   "id": "be1fd820-79ee-478e-b73d-fb6c5a2d1b22",
   "metadata": {},
   "source": [
    "#### Update 6:56AM\n",
    "\n",
    "- Going into Friday's market close we were more short than long. See positions [here](https://github.com/realspeculator/market_journal/blob/main/2023/10_2023/October%2027%2C%202023.ipynb).\n",
    "- But after Sunday's 6pm open, we immediately went long some ES and then added more to our position today.\n",
    "- The portfolio is currently down 11bps, because of the bounce and our lack of hedging in time.\n",
    "- We are still going to hold our core short positions (TSLA, AAPL, BAC etc) and use the ES futures to mitigate the losses that we anticipate to have as the markets are bouncing.\n",
    "- AMZN post earnings is looking strong and we could close our short AMZN trade (it is only 6.5bps of our portfolio)"
   ]
  },
  {
   "cell_type": "markdown",
   "id": "3f51dff6-aab0-4a60-b146-13c3dd7bebc9",
   "metadata": {},
   "source": [
    "#### Update 8:23 AM\n",
    "\n",
    "- We shorted 50 ZB (long term bond futures) at 7:45AM "
   ]
  },
  {
   "cell_type": "markdown",
   "id": "c909e7bb-6510-45d5-b8d8-d141607426dd",
   "metadata": {},
   "source": [
    "#### Update 10:05AM\n",
    "\n",
    "- Closed the long ES position (around 20 point gain)\n",
    "- Closed the short ZB position (small loss)\n",
    "\n",
    "\n",
    "Why did we close the Long ES position?\n",
    "\n",
    "<img src=\"https://www.tradingview.com/x/ReyY9XM7/\">\n",
    "\n",
    "\n",
    "- We reached the 4175 target mentioned above.\n",
    "- We traded above Friday's high and these higher prices were rejected.\n",
    "- We are now again back into Friday's range."
   ]
  },
  {
   "cell_type": "markdown",
   "id": "ea9765a9-b40f-4e62-963c-a779ec4ec274",
   "metadata": {},
   "source": [
    "#### Update 10:15AM\n",
    "\n",
    "- Went Short 200 NQ\n",
    "\n",
    "<img src=\"https://www.tradingview.com/x/zoqbG3Rx/\">"
   ]
  },
  {
   "cell_type": "markdown",
   "id": "47afcccd-9918-4eca-9af6-22c1880101ec",
   "metadata": {},
   "source": [
    "- QQQ sold off very quickly. We closed our short trade and took about 25bps profit.\n",
    "- We will look for a balance area to form and short again\n",
    "\n",
    "<img src=\"https://www.tradingview.com/x/C24LjXWp/\">"
   ]
  },
  {
   "cell_type": "markdown",
   "id": "4f56931d-3e22-438c-a616-8c0be8e24ea0",
   "metadata": {},
   "source": [
    "#### Update 10:30AM\n",
    "\n",
    "- Went 100 short NQ \n",
    "- Went short 200 ES"
   ]
  },
  {
   "cell_type": "markdown",
   "id": "291975c2-7783-4e67-9c9c-13c90e62d9f7",
   "metadata": {},
   "source": [
    "#### Update 10:40AM\n",
    "\n",
    "<img src=\"https://www.tradingview.com/x/KjrFgeYA/\">\n",
    "\n",
    "- On top of our core short positions we are now short 100 NQ and 200 ES (about 70mil notional)\n",
    "- We shorted these two because higher prices got rejected in both index.\n",
    "- In other words higher prices attracted sellers instead of buyers\n",
    "- We could see ES and NQ retest the lows of Friday\n",
    "- TICK and VOLD are trending lower, giving us a good confirmation of this trade.\n",
    "- TSLA is now down 4% and trading below 200, so that short is working as well."
   ]
  },
  {
   "cell_type": "markdown",
   "id": "e0fa7f80-e47d-44a1-9ea1-2eabce5aa6f4",
   "metadata": {},
   "source": [
    "#### Update 11:15AM\n",
    "\n",
    "- We saw a decent bounce from the time we put on our shorts\n",
    "- But we will still continue to hold our short\n",
    "- A lesson to learn is that when we get a quick selloff like we saw, we should wait for inventory to rebalance and then put on our trade.\n",
    "\n",
    "<img src=\"https://www.tradingview.com/x/pS2Nf81I/\">"
   ]
  },
  {
   "cell_type": "markdown",
   "id": "0d808062-6d3e-4ded-b116-fc2bb68bbef4",
   "metadata": {},
   "source": [
    "#### Update 11:40AM\n",
    "\n",
    "- ES and NQ are both backing off after the small intraday rally\n",
    "\n",
    "<img src=\"https://www.tradingview.com/x/xKZ6j5EY/\">"
   ]
  },
  {
   "cell_type": "markdown",
   "id": "6b6090fe-a520-4b54-896d-f305a7342697",
   "metadata": {},
   "source": [
    "#### Update 12:30PM\n",
    "\n",
    "- <img src=\"https://www.tradingview.com/x/6HrYNv7N/\">\n",
    "\n",
    "- We are about to break the 15min trend line on the QQQ\n",
    "- Still short ES and NQ"
   ]
  },
  {
   "cell_type": "markdown",
   "id": "11ab6a44-4729-4036-b58d-dbd601e4a174",
   "metadata": {},
   "source": [
    "#### Update 1:30PM\n",
    "\n",
    "- We are seeing a rally out of nowhere.\n",
    "- ES YM traded above friday's high\n",
    "- NQ is still within range from friday\n",
    "- Got stopped out.\n",
    "\n",
    "<img src=\"https://www.tradingview.com/x/uEnHXhaF/\">"
   ]
  },
  {
   "cell_type": "markdown",
   "id": "5997d457-881a-4863-84f2-feb3f3ae0430",
   "metadata": {},
   "source": [
    "#### Update 1:45PM\n",
    "\n",
    "- Went long 300 ES since if we do see a rally in the equities we dont want to be caught being short.\n",
    "\n",
    "#### Update 2:00PM\n",
    "\n",
    "<img src=\"https://www.tradingview.com/x/56GOZeKP/\">\n",
    "\n",
    "- The downward trendline on the ES has been broken\n",
    "- But we are still within the balance area.\n",
    "- However we have decided to go long for now, as we could see a short cover rally continue."
   ]
  },
  {
   "cell_type": "markdown",
   "id": "3f75f963-231e-450d-8636-81be79fd668b",
   "metadata": {},
   "source": [
    "#### Update 3:00PM\n",
    "\n",
    "<img src=\"https://www.tradingview.com/x/qjvIRl6I/\">\n",
    "\n",
    "- ES is continuing to trend higher\n",
    "- We are still holding the 300 ES long as a hedge (and a long posture) against our short stocks\n",
    "- Any pullbacks in ES are getting bought, this was not the case in the morning. But since 1:30pm we are seeing buyers step in"
   ]
  },
  {
   "cell_type": "code",
   "execution_count": null,
   "id": "051173ce-195b-4097-a834-b2a36d2db3cb",
   "metadata": {},
   "outputs": [],
   "source": []
  },
  {
   "cell_type": "code",
   "execution_count": null,
   "id": "485d005c-5cbb-4575-9505-1ef17051a705",
   "metadata": {},
   "outputs": [],
   "source": []
  },
  {
   "cell_type": "code",
   "execution_count": null,
   "id": "b36d0400-e5f3-49cb-bf6b-f77acaa79ac6",
   "metadata": {},
   "outputs": [],
   "source": []
  },
  {
   "cell_type": "code",
   "execution_count": null,
   "id": "46b61256-8647-4900-855d-fd732e449774",
   "metadata": {},
   "outputs": [],
   "source": []
  },
  {
   "cell_type": "markdown",
   "id": "8b0ba82b-db0d-484c-9e86-9621999f1801",
   "metadata": {
    "tags": []
   },
   "source": [
    "#### Discussion on Core Positions\n",
    "\n",
    "##### PEP\n",
    "\n",
    "<img src=\"https://www.tradingview.com/x/hTE3kmjW/\">\n",
    "\n",
    "- PEP broke the long term trend line and the 200SMA in August\n",
    "- This break was the best signal to go short the stock (which we clearly missed)\n",
    "- We waited till we saw some balance to form, and then entered our short.\n",
    "- PEP is coming into some support here, but a break below the 152-155 level could see prices fall overtime to the 129 level."
   ]
  },
  {
   "cell_type": "markdown",
   "id": "04a3274c-6c93-4e66-9d19-1348cd2cb024",
   "metadata": {},
   "source": [
    "##### NKE\n",
    "\n",
    "<img src=\"https://www.tradingview.com/x/mKDbG0WL/\">\n",
    "\n",
    "- NKE saw a selloff all throught 2022, then saw a 55% bounce from Oct 22, to May 23.\n",
    "- This bounce and the consolidation gave a nice cup and handle formation\n",
    "- However this cup and handle failed to materialize in mid May 23. This was a good location to go short the stock.\n",
    "- We waited for some consolidation of this break and then wen short in the next balance area.\n",
    "- We anticipate NKE could test 80 and a break below 80 could push prices as low as 60"
   ]
  },
  {
   "cell_type": "markdown",
   "id": "c326e6cf-354d-4057-982a-10fe9ad268ba",
   "metadata": {},
   "source": [
    "##### AAPL\n",
    "\n",
    "<img src=\"https://www.tradingview.com/x/o7va8mL3/\">\n",
    "\n",
    "- AAPL rallied about 55% from Oct 23 to Aug 23 reaching a market cap of about $3 Trillion\n",
    "- Then it broke the long term trend line and dropped as low as 170\n",
    "- Since then AAPL has been making lower highs\n",
    "- We shorted AAPL when if broke below the blue shaded area\n",
    "- Currently it is trading below the 200SMA and also attempting to enter the value area of 2022\n",
    "- Our price target on AAPL is in the 120s (low blue shaded area)\n",
    "- AAPL is reporting earnings this Thursday and that will determine which way AAPL and indeed the whole Market trades in the coming months"
   ]
  },
  {
   "cell_type": "markdown",
   "id": "37d2fe62-78ca-4e7c-83cf-a8256ccef507",
   "metadata": {
    "tags": []
   },
   "source": [
    "##### TSLA\n",
    "\n",
    "<img src=\"https://www.tradingview.com/x/rnLhg3XR/\">\n",
    "\n",
    "- Over the past week we have traded in and out of TSLA because the stock can move 8-10% in a matter of few hours or trading session\n",
    "- But now we have a core short position with an average price of 216\n",
    "- TSLA is enetering back into the Jan 23 to Jun 23 value area (lower left shaded area).\n",
    "- If TSLA breaks the 200 level then our target is in the 150s"
   ]
  },
  {
   "cell_type": "markdown",
   "id": "0145043b-d0da-4d29-9775-a5153a0699e0",
   "metadata": {},
   "source": [
    "##### BAC\n",
    "\n",
    "<img src=\"https://www.tradingview.com/x/gBjBhS7T/\">\n",
    "\n",
    "- After regional banking crisis in the spring of 2023, BAC saw a decent 20% bounce\n",
    "- However interest rates are still rising and are currently trading around 5%\n",
    "- This is not the best trade location, but BAC could trade as low as 20 which was the price during the COVID crisis of 2020"
   ]
  },
  {
   "cell_type": "markdown",
   "id": "84d57d4d-6ef1-4cdd-aaad-d1672d15dd11",
   "metadata": {},
   "source": [
    "##### NFLX\n",
    "\n",
    "<img src=\"https://www.tradingview.com/x/9XAvY91u/\">"
   ]
  },
  {
   "cell_type": "code",
   "execution_count": null,
   "id": "e8893050-0ce5-4113-8ea9-0cfd027e5e19",
   "metadata": {},
   "outputs": [],
   "source": []
  }
 ],
 "metadata": {
  "kernelspec": {
   "display_name": "Python 3 (ipykernel)",
   "language": "python",
   "name": "python3"
  },
  "language_info": {
   "codemirror_mode": {
    "name": "ipython",
    "version": 3
   },
   "file_extension": ".py",
   "mimetype": "text/x-python",
   "name": "python",
   "nbconvert_exporter": "python",
   "pygments_lexer": "ipython3",
   "version": "3.10.11"
  }
 },
 "nbformat": 4,
 "nbformat_minor": 5
}
