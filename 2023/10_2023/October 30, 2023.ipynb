{
 "cells": [
  {
   "cell_type": "markdown",
   "id": "1718ce29-fcfc-48e0-99fc-e4fa7396e92a",
   "metadata": {},
   "source": [
    "### October 30, 2023"
   ]
  },
  {
   "cell_type": "markdown",
   "id": "b5a2243d-b436-4a29-87f9-a80495580a13",
   "metadata": {},
   "source": [
    "#### Update 6:00AM"
   ]
  },
  {
   "cell_type": "markdown",
   "id": "e2ad55fb-222a-4406-a349-cde044169df3",
   "metadata": {},
   "source": [
    "<img src=\"https://www.tradingview.com/x/b69QmTsI/\">"
   ]
  },
  {
   "cell_type": "markdown",
   "id": "793b3cff-d906-4715-a64e-47b17a02edee",
   "metadata": {},
   "source": [
    "- We have been of the view that this selloff was overextended and markets would could see a bounce. Our reasons were\n",
    "- Prices are at the lower end channel\n",
    "- RSI is close to 30 (which many consider as an oversold signal)"
   ]
  },
  {
   "cell_type": "markdown",
   "id": "4c75cbb3-b560-463e-93d9-13ec3c228890",
   "metadata": {},
   "source": [
    "- We are heavily shorting several stocks and given our view it was important to not let this bounce reduce our gains.\n",
    "- As a result on friday (Oct 27) afternoon we initiated small long position in the ES\n",
    "- On Sunday evening we bought more ES futures at an average price around 4150\n",
    "- If this bounce does materialize then we could see ES rally upto 4175 - 4200\n"
   ]
  },
  {
   "cell_type": "markdown",
   "id": "d981fcfe-b0fd-4002-9f45-263956c01120",
   "metadata": {},
   "source": [
    "#### Update 6:42AM\n",
    "\n",
    "- Added more to the long ES position. We are now long 200 ES at an average price of 4155."
   ]
  },
  {
   "cell_type": "code",
   "execution_count": null,
   "id": "155a6357-1913-45f2-bdea-00bea024efde",
   "metadata": {},
   "outputs": [],
   "source": []
  }
 ],
 "metadata": {
  "kernelspec": {
   "display_name": "Python 3 (ipykernel)",
   "language": "python",
   "name": "python3"
  },
  "language_info": {
   "codemirror_mode": {
    "name": "ipython",
    "version": 3
   },
   "file_extension": ".py",
   "mimetype": "text/x-python",
   "name": "python",
   "nbconvert_exporter": "python",
   "pygments_lexer": "ipython3",
   "version": "3.10.11"
  }
 },
 "nbformat": 4,
 "nbformat_minor": 5
}
