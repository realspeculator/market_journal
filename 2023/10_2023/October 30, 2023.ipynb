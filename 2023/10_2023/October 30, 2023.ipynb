{
 "cells": [
  {
   "cell_type": "markdown",
   "id": "1718ce29-fcfc-48e0-99fc-e4fa7396e92a",
   "metadata": {},
   "source": [
    "### October 30, 2023"
   ]
  },
  {
   "cell_type": "markdown",
   "id": "b5a2243d-b436-4a29-87f9-a80495580a13",
   "metadata": {},
   "source": [
    "#### Update 6:00AM"
   ]
  },
  {
   "cell_type": "markdown",
   "id": "e2ad55fb-222a-4406-a349-cde044169df3",
   "metadata": {},
   "source": [
    "<img src=\"https://www.tradingview.com/x/b69QmTsI/\">"
   ]
  },
  {
   "cell_type": "markdown",
   "id": "793b3cff-d906-4715-a64e-47b17a02edee",
   "metadata": {},
   "source": [
    "- We have been of the view that this selloff was overextended and markets would could see a bounce. Our reasons were\n",
    "- Prices are at the lower end channel\n",
    "- RSI is close to 30 (which many consider as an oversold signal)"
   ]
  },
  {
   "cell_type": "markdown",
   "id": "4c75cbb3-b560-463e-93d9-13ec3c228890",
   "metadata": {},
   "source": [
    "- We are heavily shorting several stocks and given our view it was important to not let this bounce reduce our gains.\n",
    "- As a result on friday (Oct 27) afternoon we initiated small long position in the ES\n",
    "- On Sunday evening we bought more ES futures at an average price around 4150\n",
    "- If this bounce does materialize then we could see ES rally upto 4175 - 4200\n"
   ]
  },
  {
   "cell_type": "markdown",
   "id": "d981fcfe-b0fd-4002-9f45-263956c01120",
   "metadata": {},
   "source": [
    "#### Update 6:42AM\n",
    "\n",
    "- Added more to the long ES position. We are now long 200 ES at an average price of 4155."
   ]
  },
  {
   "cell_type": "markdown",
   "id": "be1fd820-79ee-478e-b73d-fb6c5a2d1b22",
   "metadata": {},
   "source": [
    "#### Update 6:56AM\n",
    "\n",
    "- Going into Friday's market close we were more short than long. See positions [here](https://github.com/realspeculator/market_journal/blob/main/2023/10_2023/October%2027%2C%202023.ipynb).\n",
    "- But after Sunday's 6pm open, we immediately went long some ES and then added more to our position today.\n",
    "- The portfolio is currently down 11bps, because of the bounce and our lack of hedging in time.\n",
    "- We are still going to hold our core short positions (TSLA, AAPL, BAC etc) and use the ES futures to mitigate the losses that we anticipate to have as the markets are bouncing.\n",
    "- AMZN post earnings is looking strong and we could close our short AMZN trade (it is only 6.5bps of our portfolio)"
   ]
  },
  {
   "cell_type": "markdown",
   "id": "3f51dff6-aab0-4a60-b146-13c3dd7bebc9",
   "metadata": {},
   "source": [
    "#### Update 8:23 AM\n",
    "\n",
    "- We shorted 50 ZB (long term bond futures) at 7:45AM "
   ]
  },
  {
   "cell_type": "markdown",
   "id": "8b0ba82b-db0d-484c-9e86-9621999f1801",
   "metadata": {
    "tags": []
   },
   "source": [
    "#### Discussion on Core Positions\n",
    "\n",
    "##### PEP\n",
    "\n",
    "<img src=\"https://www.tradingview.com/x/hTE3kmjW/\">\n",
    "\n",
    "- PEP broke the long term trend line and the 200SMA in August\n",
    "- This break was the best signal to go short the stock (which we clearly missed)\n",
    "- We waited till we saw some balance to form, and then entered our short.\n",
    "- PEP is coming into some support here, but a break below the 152-155 level could see prices fall overtime to the 129 level."
   ]
  },
  {
   "cell_type": "markdown",
   "id": "04a3274c-6c93-4e66-9d19-1348cd2cb024",
   "metadata": {},
   "source": [
    "##### NKE\n",
    "\n",
    "<img src=\"https://www.tradingview.com/x/mKDbG0WL/\">\n",
    "\n",
    "- NKE saw a selloff all throught 2022, then saw a 55% bounce from Oct 22, to May 23.\n",
    "- This bounce and the consolidation gave a nice cup and handle formation\n",
    "- However this cup and handle failed to materialize in mid May 23. This was a good location to go short the stock.\n",
    "- We waited for some consolidation of this break and then wen short in the next balance area.\n",
    "- We anticipate NKE could test 80 and a break below 80 could push prices as low as 60"
   ]
  },
  {
   "cell_type": "markdown",
   "id": "c326e6cf-354d-4057-982a-10fe9ad268ba",
   "metadata": {},
   "source": [
    "##### AAPL\n",
    "\n",
    "<img src=\"https://www.tradingview.com/x/o7va8mL3/\">\n",
    "\n",
    "- AAPL rallied about 55% from Oct 23 to Aug 23 reaching a market cap of about $3 Trillion\n",
    "- Then it broke the long term trend line and dropped as low as 170\n",
    "- Since then AAPL has been making lower highs\n",
    "- We shorted AAPL when if broke below the blue shaded area\n",
    "- Currently it is trading below the 200SMA and also attempting to enter the value area of 2022\n",
    "- Our price target on AAPL is in the 120s (low blue shaded area)\n",
    "- AAPL is reporting earnings this Thursday and that will determine which way AAPL and indeed the whole Market trades in the coming months"
   ]
  },
  {
   "cell_type": "markdown",
   "id": "37d2fe62-78ca-4e7c-83cf-a8256ccef507",
   "metadata": {},
   "source": [
    "##### TSLA\n",
    "\n",
    "<img src=\"https://www.tradingview.com/x/rnLhg3XR/\">\n",
    "\n",
    "- Over the past week we have traded in and out of TSLA because the stock can move 8-10% in a matter of few hours or trading session\n",
    "- But now we have a core short position with an average price of 216\n",
    "- TSLA is enetering back into the Jan 23 to Jun 23 value area (lower left shaded area).\n",
    "- If TSLA breaks the 200 level then our target is in the 150s"
   ]
  }
 ],
 "metadata": {
  "kernelspec": {
   "display_name": "Python 3 (ipykernel)",
   "language": "python",
   "name": "python3"
  },
  "language_info": {
   "codemirror_mode": {
    "name": "ipython",
    "version": 3
   },
   "file_extension": ".py",
   "mimetype": "text/x-python",
   "name": "python",
   "nbconvert_exporter": "python",
   "pygments_lexer": "ipython3",
   "version": "3.10.11"
  }
 },
 "nbformat": 4,
 "nbformat_minor": 5
}
