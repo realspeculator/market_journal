{
 "cells": [
  {
   "cell_type": "markdown",
   "id": "73bbbb30-4d6e-441f-829d-87b3ea40f699",
   "metadata": {},
   "source": [
    "### Ocotober 11, 2023"
   ]
  },
  {
   "cell_type": "markdown",
   "id": "5c7d9eae-31b1-442d-95de-a4f12b240d35",
   "metadata": {},
   "source": [
    "<img src=\"https://www.tradingview.com/x/fVkjPiKx/\">"
   ]
  },
  {
   "cell_type": "markdown",
   "id": "1340bc17-609f-43f7-82a7-efa101ddf009",
   "metadata": {},
   "source": [
    "- Post October 6 non-farm payroll data release we saw a strong rally of 150 points in the ES futures.\n",
    "- Now it appears that ES is running into some resistance as we can see in the above picture. The 4350-4400 is the area of resistance.\n",
    "- We are trading above this area and it will be important to see if we can hold this level.\n",
    "- We are not buying at this level, nor shorting. We will wait for the market to balance and then take the position when we break out of the balance."
   ]
  },
  {
   "cell_type": "markdown",
   "id": "684151d5-17ee-47d0-bbb4-1eb3b2113559",
   "metadata": {},
   "source": []
  },
  {
   "cell_type": "code",
   "execution_count": null,
   "id": "9e5d26e9-9978-401b-ac69-a092f43126e1",
   "metadata": {},
   "outputs": [],
   "source": []
  }
 ],
 "metadata": {
  "kernelspec": {
   "display_name": "Python 3 (ipykernel)",
   "language": "python",
   "name": "python3"
  },
  "language_info": {
   "codemirror_mode": {
    "name": "ipython",
    "version": 3
   },
   "file_extension": ".py",
   "mimetype": "text/x-python",
   "name": "python",
   "nbconvert_exporter": "python",
   "pygments_lexer": "ipython3",
   "version": "3.10.11"
  }
 },
 "nbformat": 4,
 "nbformat_minor": 5
}
