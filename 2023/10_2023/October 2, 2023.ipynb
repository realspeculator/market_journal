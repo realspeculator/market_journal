{
 "cells": [
  {
   "cell_type": "markdown",
   "id": "5edf7124-9ba1-41b6-adf6-6d91020e0378",
   "metadata": {},
   "source": [
    "### October 2, 2023"
   ]
  },
  {
   "cell_type": "markdown",
   "id": "7e810228-fad6-4598-99d7-d4b543afc01c",
   "metadata": {},
   "source": [
    "The second half of September 2023 saw stocks fall sharply and this fall was about 7%. Going into the last week there were worries that the US government will not be able to fund itself. But as usual during the 11th hour negotitations there was a temporary measure passed which will keep the government funded for the next 45 days. So essentially they kicked the can down the lane."
   ]
  },
  {
   "cell_type": "markdown",
   "id": "c10d72ff-6cb2-4788-ab32-3eb68ebf5fab",
   "metadata": {},
   "source": [
    "But when it comes to the major indices instead of seeing buyer step into take advantage of this selloff, we are seeing further weakness and a potential to break some key support at pivotal points. As we can see, we are putting on a revesal pattern as seen in the inverted cup and handle on the S&P 500 E-mini futures. We are also seeing a small balance area between ~4360 to ~4275. In the next image we will zoom in on that this balance area on a 30 mins chart."
   ]
  },
  {
   "cell_type": "markdown",
   "id": "db6492c6-f3e7-4b92-864b-b40266d31ae1",
   "metadata": {},
   "source": [
    "<img src=\"https://s3.tradingview.com/snapshots/o/OaKon2rw.png\">"
   ]
  },
  {
   "cell_type": "markdown",
   "id": "95111535-d77a-4080-9a06-70edc3f4d127",
   "metadata": {},
   "source": [
    "As we zoom in the balance area mentioned above, we are seeing that prices are getting accepted at this level. Which does indicate that we are seeing any buyers. The market will be opening in about 23 mins and although we are bearish, within this range we could see huge volatility. One needs to sit tight and observe how prices react at the extremes of these two pivot points (~4360 to ~4280)."
   ]
  },
  {
   "cell_type": "markdown",
   "id": "7f754e63-fbc4-44ff-91bd-d3832762ba73",
   "metadata": {},
   "source": [
    "<img src=\"https://s3.tradingview.com/snapshots/w/wkMOQeFQ.png\">"
   ]
  },
  {
   "cell_type": "markdown",
   "id": "1088be19-2c70-4b8f-be95-9caec3a98476",
   "metadata": {},
   "source": [
    "#### Update 9:30AM"
   ]
  },
  {
   "cell_type": "markdown",
   "id": "d580eeb6-b993-48eb-8164-bc5d0f44c65d",
   "metadata": {},
   "source": [
    "- We opened in the lower third of the range from Friday. Tick opened at -800 and are now near -311 and A/D line also negative.\n",
    "- Prices are probing higher, but the ticks are not turning positive."
   ]
  },
  {
   "cell_type": "markdown",
   "id": "88e89fb9-822b-463f-8d5a-83148f647dfd",
   "metadata": {},
   "source": [
    "#### Update 10:30AM\n",
    "\n",
    "We saw some bid come into the market, but the ticks we still negative. So we dont put any weight on this bid higher. The markets are still within the range we mentioned and there is nothing special about this bid. We are continuing to see value get accpeted at this lower level. On the other hand the largest stocks Apple, Google, Microsoft, Amazon, Meta and Nvidia are all higher which is resulting in a higher bid in the Nasdaq futures. Once again its the large cap stocks keeping the bid up, but the advanced decline line is -1242 so the rest of the market is not seeing this bid higher."
   ]
  },
  {
   "cell_type": "markdown",
   "id": "badcd3d8-10be-494f-9035-814112d89168",
   "metadata": {},
   "source": [
    "<img src=\"https://s3.tradingview.com/snapshots/q/QJdIRykB.png\">"
   ]
  },
  {
   "cell_type": "markdown",
   "id": "c8f0efe4-6e03-4c74-9149-30ce1bffd72d",
   "metadata": {},
   "source": [
    "#### Update 11:30AM\n",
    "\n",
    "We are catching more bind in the Nasdaq and the QQQ are back at the 362 resistance. Our belief is that we see the prices back off from this level."
   ]
  },
  {
   "cell_type": "markdown",
   "id": "0e6954ca-19f1-4cda-89f8-1c71a9fd15d5",
   "metadata": {},
   "source": [
    "#### Update 11:56AM\n",
    "\n",
    "As anticipated, the QQQ got rejected strongly at the 362 price level. Now it is falling sharply.\n",
    "\n",
    "<img src=\"https://s3.tradingview.com/snapshots/i/iCi7etCK.png\">"
   ]
  },
  {
   "cell_type": "markdown",
   "id": "484d5293-189b-462c-9139-cce4cf91e711",
   "metadata": {},
   "source": [
    "This pullback at the 362 level, gives us more confidence that it is a key pivotal point and must be monitored very closely."
   ]
  },
  {
   "cell_type": "markdown",
   "id": "6304f83f-1225-4c40-9119-ac5304320d98",
   "metadata": {},
   "source": [
    "#### Update 1:10PM\n",
    "\n",
    "S&P 500 is now trading at the low of the day and it now trading down 0.60%."
   ]
  },
  {
   "cell_type": "markdown",
   "id": "bc4ebccb-7c3b-4802-8802-db710f3f09db",
   "metadata": {},
   "source": [
    "#### Update 3:15PM\n",
    "\n",
    "- The S&P 500 is now trading below yesterday's low, confirming that prices are getting accepted at this lower level. \n",
    "- Dow Jones and the Small Cap Russell 2000 index are both trading below the last 2 days of trading range, in other words they are extending the range lower.\n",
    "- Nasdaq is the best of all indices thanks to the large cap stocks keeping their gains. Apple, Microsoft, Google, Amazon, Meta an Nvidia are all trading UP more than 1-2% on a day which we would characterize as weak trading day."
   ]
  },
  {
   "cell_type": "code",
   "execution_count": null,
   "id": "f12bed44-1bc5-48a2-ac35-b2f7abcad002",
   "metadata": {},
   "outputs": [],
   "source": []
  }
 ],
 "metadata": {
  "kernelspec": {
   "display_name": "Python 3 (ipykernel)",
   "language": "python",
   "name": "python3"
  },
  "language_info": {
   "codemirror_mode": {
    "name": "ipython",
    "version": 3
   },
   "file_extension": ".py",
   "mimetype": "text/x-python",
   "name": "python",
   "nbconvert_exporter": "python",
   "pygments_lexer": "ipython3",
   "version": "3.10.11"
  }
 },
 "nbformat": 4,
 "nbformat_minor": 5
}
