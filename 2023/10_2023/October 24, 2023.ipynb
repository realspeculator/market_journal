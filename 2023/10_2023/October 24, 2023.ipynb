{
 "cells": [
  {
   "cell_type": "markdown",
   "id": "363331f6-38b3-4905-9adf-5424c09279f5",
   "metadata": {},
   "source": [
    "### October 24, 2023"
   ]
  },
  {
   "cell_type": "markdown",
   "id": "34a59bff-ebf2-4be5-9354-c59801f69c35",
   "metadata": {},
   "source": [
    "We saw some buyers step in overnight and currently all the equity indices are trading higher.\n",
    "\n",
    "We are still below the key 4280 level on the ES.\n",
    "\n",
    "TSLA and NFLX both are seeing a good rally this morning. "
   ]
  },
  {
   "cell_type": "markdown",
   "id": "369c6302-e8ac-4818-9b9f-43ca3c53b6e2",
   "metadata": {},
   "source": [
    "#### Update 10:30AM\n",
    "\n",
    "YM, ES and NQ are all attempting a breakout of the local highs. Its rare to see a breakout just happen intra-day (barring and news story). Could this breakout be genuine or a bear flag?\n",
    "\n",
    "We would like to see some value form at these highs."
   ]
  },
  {
   "cell_type": "code",
   "execution_count": null,
   "id": "26e1270f-e098-440a-b80c-027e2df475dd",
   "metadata": {},
   "outputs": [],
   "source": []
  }
 ],
 "metadata": {
  "kernelspec": {
   "display_name": "Python 3 (ipykernel)",
   "language": "python",
   "name": "python3"
  },
  "language_info": {
   "codemirror_mode": {
    "name": "ipython",
    "version": 3
   },
   "file_extension": ".py",
   "mimetype": "text/x-python",
   "name": "python",
   "nbconvert_exporter": "python",
   "pygments_lexer": "ipython3",
   "version": "3.10.6"
  }
 },
 "nbformat": 4,
 "nbformat_minor": 5
}
