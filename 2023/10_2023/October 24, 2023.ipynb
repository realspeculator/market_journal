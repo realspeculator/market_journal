{
 "cells": [
  {
   "cell_type": "markdown",
   "id": "363331f6-38b3-4905-9adf-5424c09279f5",
   "metadata": {},
   "source": [
    "### October 24, 2023"
   ]
  },
  {
   "cell_type": "code",
   "execution_count": null,
   "id": "33d544ec-f9cd-4593-8d85-9e972234403e",
   "metadata": {},
   "outputs": [],
   "source": []
  }
 ],
 "metadata": {
  "kernelspec": {
   "display_name": "Python 3 (ipykernel)",
   "language": "python",
   "name": "python3"
  },
  "language_info": {
   "codemirror_mode": {
    "name": "ipython",
    "version": 3
   },
   "file_extension": ".py",
   "mimetype": "text/x-python",
   "name": "python",
   "nbconvert_exporter": "python",
   "pygments_lexer": "ipython3",
   "version": "3.10.6"
  }
 },
 "nbformat": 4,
 "nbformat_minor": 5
}
