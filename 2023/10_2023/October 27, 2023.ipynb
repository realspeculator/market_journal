{
 "cells": [
  {
   "cell_type": "markdown",
   "id": "c277737f-5312-43eb-91c6-5156f847f2cc",
   "metadata": {},
   "source": [
    "### October 27, 2023"
   ]
  },
  {
   "cell_type": "markdown",
   "id": "b08dbffb-d6fd-43ae-9de2-26ce79fd11b1",
   "metadata": {},
   "source": [
    "<img src=\"https://www.tradingview.com/x/t3ZikCDl/\">"
   ]
  },
  {
   "cell_type": "markdown",
   "id": "32a9fcc7-4e98-4f23-b1b7-7832fa7500aa",
   "metadata": {},
   "source": [
    "#### Update 9:00AM\n",
    "\n",
    "- The ES has fallen 140 points in 3 days\n",
    "- The daily RSI is around 30\n",
    "- We are trading at the lower end of the channel\n",
    "- ES is in oversold territory\n",
    "- A 100 point rally upto 4260 is a good possibility\n",
    "- Today the monthly options contracts expire, so we could see random moves in the ES which may not respest the techincals much. So we will only trade small at crucial pivot points.\n",
    "\n"
   ]
  },
  {
   "cell_type": "code",
   "execution_count": null,
   "id": "fbb09656-dec9-4769-9c3d-17bf320dcb27",
   "metadata": {},
   "outputs": [],
   "source": []
  }
 ],
 "metadata": {
  "kernelspec": {
   "display_name": "Python 3 (ipykernel)",
   "language": "python",
   "name": "python3"
  },
  "language_info": {
   "codemirror_mode": {
    "name": "ipython",
    "version": 3
   },
   "file_extension": ".py",
   "mimetype": "text/x-python",
   "name": "python",
   "nbconvert_exporter": "python",
   "pygments_lexer": "ipython3",
   "version": "3.10.11"
  }
 },
 "nbformat": 4,
 "nbformat_minor": 5
}
