{
 "cells": [
  {
   "cell_type": "markdown",
   "id": "c277737f-5312-43eb-91c6-5156f847f2cc",
   "metadata": {},
   "source": [
    "### October 27, 2023"
   ]
  },
  {
   "cell_type": "markdown",
   "id": "b08dbffb-d6fd-43ae-9de2-26ce79fd11b1",
   "metadata": {},
   "source": [
    "<img src=\"https://www.tradingview.com/x/t3ZikCDl/\">"
   ]
  },
  {
   "cell_type": "markdown",
   "id": "32a9fcc7-4e98-4f23-b1b7-7832fa7500aa",
   "metadata": {},
   "source": [
    "#### Update 9:00AM\n",
    "\n",
    "- The ES has fallen 140 points in 3 days\n",
    "- The daily RSI is around 30\n",
    "- We are trading at the lower end of the channel\n",
    "- ES is in oversold territory\n",
    "- A 100 point rally upto 4260 is a good possibility\n",
    "- Today the monthly options contracts expire, so we could see random moves in the ES which may not respest the techincals much. So we will only trade small at crucial pivot points.\n",
    "\n"
   ]
  },
  {
   "cell_type": "markdown",
   "id": "c2a00bf9-06f7-4bc8-b7e1-1d573212381d",
   "metadata": {},
   "source": [
    "#### Update 9:35AM\n",
    "\n",
    "- We failed to mention early but we also closed our overnight long Position in the ES at 5:00AM this morning\n",
    "- We took advantage of the market bounce and closed the CSCO long position. \n",
    "- We have only 1 Long Position which is 10000 in NFLX\n",
    "- We also added a short posiiton in BAC on yesterday's bounce.\n",
    "- We are also short AMZN\n",
    "\n",
    "We will update our position, trades and PnL at the end of the day"
   ]
  },
  {
   "cell_type": "markdown",
   "id": "69a7eea1-b006-4e90-8a99-8a037303cd55",
   "metadata": {},
   "source": [
    "#### Update 10:03AM\n",
    "\n",
    "- We are trading around 4150. This is at the low end of yesterdays's range.\n",
    "- We could see a bounce rom here. But we are not buying this bounce because of the wacky move we could get."
   ]
  },
  {
   "cell_type": "code",
   "execution_count": null,
   "id": "dc5db814-88a5-4cf1-b46f-db2481732098",
   "metadata": {},
   "outputs": [],
   "source": []
  }
 ],
 "metadata": {
  "kernelspec": {
   "display_name": "Python 3 (ipykernel)",
   "language": "python",
   "name": "python3"
  },
  "language_info": {
   "codemirror_mode": {
    "name": "ipython",
    "version": 3
   },
   "file_extension": ".py",
   "mimetype": "text/x-python",
   "name": "python",
   "nbconvert_exporter": "python",
   "pygments_lexer": "ipython3",
   "version": "3.10.11"
  }
 },
 "nbformat": 4,
 "nbformat_minor": 5
}
