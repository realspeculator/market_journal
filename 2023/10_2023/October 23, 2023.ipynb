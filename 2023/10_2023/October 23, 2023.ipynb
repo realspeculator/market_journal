{
 "cells": [
  {
   "cell_type": "markdown",
   "id": "2e649625-984a-4adf-9120-1008431ab071",
   "metadata": {},
   "source": [
    "### October 23, 2023"
   ]
  },
  {
   "cell_type": "markdown",
   "id": "368a28e5-0ecd-4d38-9724-ad1e22d51344",
   "metadata": {},
   "source": [
    "Today we have broken the major support levels in the stocks.\n",
    "\n",
    "Over the weekend we entered the following orders and they are still outstanding"
   ]
  },
  {
   "cell_type": "markdown",
   "id": "ad5e903e-f997-4331-8839-24cba110226c",
   "metadata": {},
   "source": [
    "\t10/21/23, 11:28:49 AM\tSELL\tTO OPEN\t-60,000\tFDX\tFDX \t246.20 LIMIT\tGTC\t239.16\t—\tWORKING\n",
    "\t10/21/23, 11:31:05 AM\tBUY\tTO OPEN\t+160,000\tGOOGL\tGOOGL \t127.00 LIMIT\tGTC\t134.33\t—\tWORKING\n",
    "\t10/21/23, 11:33:23 AM\tSELL\tTO OPEN\t-20,000\tTSLA\tTSLA \t231.00 LIMIT\tGTC\t204.705\t—\tWORKING\n",
    "\t10/21/23, 12:00:31 PM\tBUY\tTO OPEN\t+100,000\tWMT\tWMT \t155.00 LIMIT\tGTC\t158.75\t—\tWORKING\n",
    "\t10/21/23, 12:17:46 PM\tSELL\tTO OPEN\t-160,000\tORCL\tORCL \t110.00 LIMIT\tGTC\t102.57\t—\tWORKING\n",
    "\t10/21/23, 12:19:43 PM\tBUY\tTO OPEN\t+18,500\tCOST\tCOST \t542.00 LIMIT\tGTC\t548.62\t—\tWORKING\n",
    "\t10/21/23, 12:20:58 PM\tSELL\tTO OPEN\t-55,000\tPEP\tPEP \t160.00 LIMIT\tGTC\t159.62\t—\tWORKING\n",
    "\t10/21/23, 12:22:59 PM\tBUY\tTO OPEN\t+200,000\tCSCO\tCSCO \t52.20 LIMIT\tGTC\t52.46\t—\tWORKING\n",
    "\t10/21/23, 12:25:22 PM\tSELL\tTO OPEN\t-220,000\tBAC\tBAC \t26.25 LIMIT\tGTC\t25.995\t—\tWORKING\n",
    "\t10/21/23, 12:27:48 PM\tSELL\tTO OPEN\t-160,000\tCRM\tCRM \t212.70 LIMIT\tGTC\t198.68\t—\tWORKING\n",
    "\t10/21/23, 12:30:32 PM\tSELL\tTO OPEN\t-30,000\tACN\tACN \t311.00 LIMIT\tGTC\t295.125\t—\tWORKING\n",
    "\t10/21/23, 12:38:21 PM\tSELL\tTO OPEN\t-50,000\tNKE\tNKE \t102.55 LIMIT\tGTC\t101.99\t—\tWORKING\n",
    "\t10/21/23, 12:39:55 PM\tBUY\tTO OPEN\t+20,000\tNFLX\tNFLX \t400.00 LIMIT\tGTC\t402.5101\t—\tWORKING\n",
    "\t10/21/23, 12:47:11 PM\tBUY\tTO OPEN\t+70,000\tAMGN\tAMGN \t265.00 LIMIT\tGTC\t276.40\t—\tWORKING\n",
    "\t10/23/23, 9:31:26 AM\tSELL\tTO OPEN\t-50\t/ESZ23\t/ESZ23 \t4,250.00 LIMIT\tDay\t4,220.00\t—\tWORKING\n"
   ]
  },
  {
   "cell_type": "markdown",
   "id": "87f24600-858f-463a-aeaa-11eb79ce461c",
   "metadata": {},
   "source": [
    "The market opened below Friday's low.\n",
    "\n",
    "We have orders outstanding to short ES at 4250, as we could see some bounce this morning."
   ]
  },
  {
   "cell_type": "code",
   "execution_count": null,
   "id": "7673bcf5-3fd7-402a-8aef-213fe166465f",
   "metadata": {},
   "outputs": [],
   "source": []
  }
 ],
 "metadata": {
  "kernelspec": {
   "display_name": "Python 3 (ipykernel)",
   "language": "python",
   "name": "python3"
  },
  "language_info": {
   "codemirror_mode": {
    "name": "ipython",
    "version": 3
   },
   "file_extension": ".py",
   "mimetype": "text/x-python",
   "name": "python",
   "nbconvert_exporter": "python",
   "pygments_lexer": "ipython3",
   "version": "3.10.11"
  }
 },
 "nbformat": 4,
 "nbformat_minor": 5
}
