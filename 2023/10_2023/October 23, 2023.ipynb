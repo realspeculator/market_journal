{
 "cells": [
  {
   "cell_type": "markdown",
   "id": "2e649625-984a-4adf-9120-1008431ab071",
   "metadata": {},
   "source": [
    "### October 23, 2023"
   ]
  },
  {
   "cell_type": "markdown",
   "id": "368a28e5-0ecd-4d38-9724-ad1e22d51344",
   "metadata": {},
   "source": [
    "Today we have broken the major support levels in the stocks.\n",
    "\n",
    "Over the weekend we entered the following orders and they are still outstanding"
   ]
  },
  {
   "cell_type": "markdown",
   "id": "ad5e903e-f997-4331-8839-24cba110226c",
   "metadata": {},
   "source": [
    "\t10/21/23, 11:28:49 AM\tSELL\tTO OPEN\t-60,000\tFDX\tFDX \t246.20 LIMIT\tGTC\t239.16\t—\tWORKING\n",
    "\t10/21/23, 11:31:05 AM\tBUY\tTO OPEN\t+160,000\tGOOGL\tGOOGL \t127.00 LIMIT\tGTC\t134.33\t—\tWORKING\n",
    "\t10/21/23, 11:33:23 AM\tSELL\tTO OPEN\t-20,000\tTSLA\tTSLA \t231.00 LIMIT\tGTC\t204.705\t—\tWORKING\n",
    "\t10/21/23, 12:00:31 PM\tBUY\tTO OPEN\t+100,000\tWMT\tWMT \t155.00 LIMIT\tGTC\t158.75\t—\tWORKING\n",
    "\t10/21/23, 12:17:46 PM\tSELL\tTO OPEN\t-160,000\tORCL\tORCL \t110.00 LIMIT\tGTC\t102.57\t—\tWORKING\n",
    "\t10/21/23, 12:19:43 PM\tBUY\tTO OPEN\t+18,500\tCOST\tCOST \t542.00 LIMIT\tGTC\t548.62\t—\tWORKING\n",
    "\t10/21/23, 12:20:58 PM\tSELL\tTO OPEN\t-55,000\tPEP\tPEP \t160.00 LIMIT\tGTC\t159.62\t—\tWORKING\n",
    "\t10/21/23, 12:22:59 PM\tBUY\tTO OPEN\t+200,000\tCSCO\tCSCO \t52.20 LIMIT\tGTC\t52.46\t—\tWORKING\n",
    "\t10/21/23, 12:25:22 PM\tSELL\tTO OPEN\t-220,000\tBAC\tBAC \t26.25 LIMIT\tGTC\t25.995\t—\tWORKING\n",
    "\t10/21/23, 12:27:48 PM\tSELL\tTO OPEN\t-160,000\tCRM\tCRM \t212.70 LIMIT\tGTC\t198.68\t—\tWORKING\n",
    "\t10/21/23, 12:30:32 PM\tSELL\tTO OPEN\t-30,000\tACN\tACN \t311.00 LIMIT\tGTC\t295.125\t—\tWORKING\n",
    "\t10/21/23, 12:38:21 PM\tSELL\tTO OPEN\t-50,000\tNKE\tNKE \t102.55 LIMIT\tGTC\t101.99\t—\tWORKING\n",
    "\t10/21/23, 12:39:55 PM\tBUY\tTO OPEN\t+20,000\tNFLX\tNFLX \t400.00 LIMIT\tGTC\t402.5101\t—\tWORKING\n",
    "\t10/21/23, 12:47:11 PM\tBUY\tTO OPEN\t+70,000\tAMGN\tAMGN \t265.00 LIMIT\tGTC\t276.40\t—\tWORKING\n",
    "\t10/23/23, 9:31:26 AM\tSELL\tTO OPEN\t-50\t/ESZ23\t/ESZ23 \t4,250.00 LIMIT\tDay\t4,220.00\t—\tWORKING\n"
   ]
  },
  {
   "cell_type": "markdown",
   "id": "87f24600-858f-463a-aeaa-11eb79ce461c",
   "metadata": {},
   "source": [
    "The market opened below Friday's low.\n",
    "\n",
    "We have orders outstanding to short ES at 4250, as we could see some bounce this morning.\n",
    "\n",
    "<img src=\"https://www.tradingview.com/x/F0KnyLpb/\">"
   ]
  },
  {
   "cell_type": "markdown",
   "id": "200b9d0c-f44f-4f2d-bd58-90def26aed93",
   "metadata": {},
   "source": [
    "#### Update 10:00AM\n",
    "\n",
    "- Went short ES at 4241.75"
   ]
  },
  {
   "cell_type": "markdown",
   "id": "f72859cc-98f4-4429-9b86-881c72afe4b0",
   "metadata": {},
   "source": [
    "### Update 10:12AM\n",
    "\n",
    "Since October 20, 2023 starting value of $100 million, we have entered the following trades.\n",
    "\n",
    "\t10/20/23, 1:00:00 AM\tBAL\tCash balance at the start of business day 20.10 CST\t—\t—\t—\t$100,000,000.00\n",
    "\t10/20/23, 9:35:16 AM\tTRD\tSOLD -100,000 TSLA @214.82\t-$363.05\t—\t$21,482,000.00\t$121,481,636.95\n",
    "\t10/20/23, 9:35:43 AM\tTRD\tSOLD -100,000 AAPL @174.92\t-$295.61\t—\t$17,492,000.00\t$138,973,341.34\n",
    "\t10/20/23, 9:37:20 AM\tTRD\tBOT +100,000 AAPL @174.90\t—\t—\t-$17,490,000.00\t$121,483,341.34\n",
    "\t10/20/23, 9:38:12 AM\tTRD\tSOLD -100,000 AAPL @174.98\t-$295.72\t—\t$17,498,000.00\t$138,981,045.62\n",
    "\t10/20/23, 9:41:43 AM\tTRD\tSOLD -10 /ESZ23:XCME @4301.00\t-$11.90\t-$22.50\t—\t-$34.40\n",
    "\t10/20/23, 11:28:41 AM\tTRD\tBOT +10 /ESZ23:XCME @4261.00\t-$11.90\t-$22.50\t$20,000.00\t$19,931.20\n",
    "\t10/20/23, 11:29:29 AM\tTRD\tBOT +100,000 TSLA @211.63\t—\t—\t-$21,163,000.00\t$117,818,045.62\n",
    "\t10/20/23, 1:18:36 PM\tTRD\tBOT +100,000 AAPL @174.48\t—\t—\t-$17,448,000.00\t$100,370,045.62\n",
    "\t10/20/23, 1:31:33 PM\tTRD\tSOLD -100,000 AAPL @174.10\t-$294.23\t—\t$17,410,000.00\t$117,779,751.39\n",
    "\t10/21/23, 1:00:00 AM\tBAL\tCash balance at the start of business day 21.10 CST\t—\t—\t—\t$117,779,751.39\n",
    "\t10/22/23, 1:00:00 AM\tBAL\tCash balance at the start of business day 22.10 CST\t—\t—\t—\t$117,779,751.39\n",
    "\t10/23/23, 1:00:00 AM\tBAL\tCash balance at the start of business day 23.10 CST\t—\t—\t—\t$117,779,751.39\n",
    "\t10/23/23, 9:35:45 AM\tTRD\tSOLD -70,000 JNJ @153.00\t-$181.00\t—\t$10,710,000.00\t$128,489,570.39\n",
    "\t10/23/23, 9:45:52 AM\tTRD\tSOLD -55,000 PEP @160.00\t-$148.72\t—\t$8,800,000.00\t$137,289,421.67\n",
    "\t10/23/23, 9:54:34 AM\tTRD\tSOLD -50,000 NKE @102.56\t-$86.66\t—\t$5,128,000.00\t$142,417,335.01\n",
    "\t10/23/23, 10:01:47 AM\tTRD\tSOLD -50 /ESZ23:XCME @4241.75\t-$59.50\t-$112.50\t—\t$19,759.20\n",
    "\t10/23/23, 10:10:17 AM\tTRD\tBOT +20,000 NFLX @399.63\t—\t—\t-$7,992,600.00\t$134,424,735.01"
   ]
  },
  {
   "cell_type": "markdown",
   "id": "56a7aac9-15b6-4924-94f0-c1af09964ad1",
   "metadata": {},
   "source": [
    "#### Update 11:00AM\n",
    "\n",
    "- It is very likely we could see value forming between 4215 to 4250.\n",
    "- But any positive news could force a short cover rally could push prices upto 4280 to 4300.\n",
    "- RSI on the 1 Hour chart was as low as 25 this morning before bouncing to currently at 30"
   ]
  },
  {
   "cell_type": "markdown",
   "id": "1ce88e10-222a-443e-8b05-1fab2a60b5de",
   "metadata": {},
   "source": [
    "#### Update 12:00PM\n",
    "\n",
    "- Went short another 50 ES, as we are bumping on the other side of the 200DMA.\n",
    "\n",
    "<img src=\"https://www.tradingview.com/x/0YoDBPuf/\">"
   ]
  },
  {
   "cell_type": "markdown",
   "id": "a2e6752e-f65d-4864-91b8-bd3f64b579c0",
   "metadata": {},
   "source": [
    "#### Update 12:16PM\n",
    "\n",
    "- Went short 5000 TSLA at 215\n",
    "\n",
    "<img src=\"https://www.tradingview.com/x/P4IBEMFF/\">"
   ]
  },
  {
   "cell_type": "markdown",
   "id": "c82f89b5-2dc1-4016-b37c-2f7e9b4cf892",
   "metadata": {},
   "source": [
    "#### Update 1:00PM\n",
    "\n",
    "- Shorted 50 more ES, Now the Avg Price of 4260.5"
   ]
  },
  {
   "cell_type": "markdown",
   "id": "740d2270-ca4c-4f96-bab2-9314386fa392",
   "metadata": {},
   "source": [
    "#### Update 2:00 PM\n",
    "\n",
    "- Closed the NFLX long trade. Details below\n",
    "\n",
    "\t10/23/23, 10:10:17 AM\tTRD\tBOT +20,000 NFLX @399.63 <br>\n",
    "\t10/23/23, 2:00:37 PM\tTRD\tSOLD -20,000 NFLX @405.07"
   ]
  },
  {
   "cell_type": "code",
   "execution_count": null,
   "id": "56d47867-4d66-427a-b712-cb43df7f47d8",
   "metadata": {},
   "outputs": [],
   "source": []
  },
  {
   "cell_type": "code",
   "execution_count": null,
   "id": "ebb3e642-9d99-4f08-b55a-7c9e96b8aa2a",
   "metadata": {},
   "outputs": [],
   "source": []
  }
 ],
 "metadata": {
  "kernelspec": {
   "display_name": "Python 3 (ipykernel)",
   "language": "python",
   "name": "python3"
  },
  "language_info": {
   "codemirror_mode": {
    "name": "ipython",
    "version": 3
   },
   "file_extension": ".py",
   "mimetype": "text/x-python",
   "name": "python",
   "nbconvert_exporter": "python",
   "pygments_lexer": "ipython3",
   "version": "3.10.11"
  }
 },
 "nbformat": 4,
 "nbformat_minor": 5
}
