{
 "cells": [
  {
   "cell_type": "markdown",
   "id": "6fef6859-49a3-49d5-a7b1-ebe52cfff24b",
   "metadata": {},
   "source": [
    "### October 26, 2023"
   ]
  },
  {
   "cell_type": "markdown",
   "id": "5ac92979-b997-41c7-8e47-7f8207e1d632",
   "metadata": {},
   "source": [
    "#### 5:45AM Update\n",
    "\n",
    "- ES has now broken through the major support levels.\n",
    "- Major stocks are also selling off\n",
    "- We saw AAPL, TSLA, GOOGL, META all falling down sharply.\n",
    "\n",
    "<img src=\"https://www.tradingview.com/x/zG8WgWkL/\">"
   ]
  },
  {
   "cell_type": "markdown",
   "id": "68516f75-d998-45fd-88a9-9853653a2cab",
   "metadata": {},
   "source": [
    "- The ES has seen 7 red candles (out of last 8)\n",
    "- The daily RSI is at 29.87\n",
    "- Its also at the lower end of the down trend channel.\n",
    "- The ES is down 105 points or 2.5% down from October 24th High\n",
    "- So although we are brearish on the ES we could still see a bounce from these levels as inventory gets rebalanced. \n",
    "- A bounce back to the 200DMA is possible, we will have to first see the ES trade above 4200 to see any meaningful short cover rally.\n",
    "- For now the posture is to remain short\n",
    "\n",
    "<img src=\"https://www.tradingview.com/x/ISGWK7QG/\">"
   ]
  },
  {
   "cell_type": "markdown",
   "id": "54f5f33c-c619-4473-8c6b-c8bccae25710",
   "metadata": {},
   "source": [
    "#### Update 9:27AM\n",
    "\n",
    "- Went short 40 ES at 4198.\n"
   ]
  },
  {
   "cell_type": "markdown",
   "id": "fb5bb5f3-08d9-4f52-a120-0ff60133dd93",
   "metadata": {},
   "source": [
    "#### Update 9:36AM\n",
    "\n",
    "- Closed the short as we closed yesterday's gap and tested the low of yesterday.\n",
    "- Went long 60 ES at 4204 with a stop \n",
    "- The TICKS were above 0 line and AD line was also above 0.\n",
    "- AAPL, TSLA were breaking higher.\n",
    "- This is important learning experience here. Don't buy at the first instance of punching the low of previous day.\n",
    "- Wait to see if value is getting created, and then take the trade in the direction of the breakout of this value."
   ]
  },
  {
   "cell_type": "markdown",
   "id": "70820e90-9b5d-4cfd-b352-c7106e406590",
   "metadata": {},
   "source": [
    "#### Update 9:43AM\n",
    "\n",
    "- Closed the long 60 ES trade, on the bounce. Now we will take the next trade on the breakout of the balance area.\n",
    "\n"
   ]
  },
  {
   "cell_type": "markdown",
   "id": "c2d9988f-2b89-4622-b0ca-bff576d94d26",
   "metadata": {},
   "source": [
    "<img src=\"https://www.tradingview.com/x/ktHDSOpW/\">\n",
    "\n",
    "\n",
    "This 5 min balance is forming nicely, lets see which way it breaks."
   ]
  },
  {
   "cell_type": "markdown",
   "id": "ea7c76cb-e54c-4a80-a137-80d49cd065c5",
   "metadata": {},
   "source": [
    "#### Update 9:51AM\n",
    "\n",
    "<img src=\"https://www.tradingview.com/x/zHJZoIwF/\">\n",
    "<img src=\"https://www.tradingview.com/x/ZLknQqhX/\">\n",
    "\n",
    "We did see a break of the lows, but TICK and VOLD are still positive, making it tricky to short this market."
   ]
  },
  {
   "cell_type": "markdown",
   "id": "9bb403e2-eadf-45b1-9c50-c88c7e0aa912",
   "metadata": {},
   "source": [
    "#### Update 9:57AM\n",
    "\n",
    "- Went short 100 ES at 4,188.50"
   ]
  },
  {
   "cell_type": "markdown",
   "id": "aa6d12db-c976-47e5-9c32-0868d5489547",
   "metadata": {},
   "source": [
    "#### Update 10:12AM\n",
    "\n",
    "- Closed the short trade with a 7 point gains as TICK and VOLD are still position and barely saw a print below -400 on TICK. \n",
    "- All engines are not firing, and for the reasons listed above we will stay on the sidelines. and re-enter upon confirmation.\n",
    "\n",
    "<img src=\"https://www.tradingview.com/x/4ugVDYsS/\">"
   ]
  },
  {
   "cell_type": "markdown",
   "id": "5b200e49-491d-439a-b129-360635340f16",
   "metadata": {},
   "source": [
    "#### Update 10:30AM\n",
    "\n",
    "- TICK are above 0\n",
    "- VOLD is above 0\n",
    "- Not bearish at all.\n",
    "- Went long 300 ES contracts at 4183"
   ]
  },
  {
   "cell_type": "markdown",
   "id": "9d5f978f-9a57-4288-9a76-276051868b05",
   "metadata": {},
   "source": [
    "#### Update 10:58AM\n",
    "\n",
    "- Closed the long 300 ES Position at 4198\n",
    "- Shorted additional 500 ES at 4198\n",
    "\n"
   ]
  },
  {
   "cell_type": "code",
   "execution_count": null,
   "id": "4511dbb2-d816-4dec-8da3-c87662d80ebb",
   "metadata": {},
   "outputs": [],
   "source": []
  }
 ],
 "metadata": {
  "kernelspec": {
   "display_name": "Python 3 (ipykernel)",
   "language": "python",
   "name": "python3"
  },
  "language_info": {
   "codemirror_mode": {
    "name": "ipython",
    "version": 3
   },
   "file_extension": ".py",
   "mimetype": "text/x-python",
   "name": "python",
   "nbconvert_exporter": "python",
   "pygments_lexer": "ipython3",
   "version": "3.10.11"
  }
 },
 "nbformat": 4,
 "nbformat_minor": 5
}
