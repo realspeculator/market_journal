{
 "cells": [
  {
   "cell_type": "markdown",
   "id": "6fef6859-49a3-49d5-a7b1-ebe52cfff24b",
   "metadata": {},
   "source": [
    "### October 26, 2023"
   ]
  },
  {
   "cell_type": "markdown",
   "id": "5ac92979-b997-41c7-8e47-7f8207e1d632",
   "metadata": {},
   "source": [
    "#### 5:45AM Update\n",
    "\n",
    "- ES has now broken through the major support levels.\n",
    "- Major stocks are also selling off\n",
    "- We saw AAPL, TSLA, GOOGL, META all falling down sharply.\n",
    "\n",
    "<img src=\"https://www.tradingview.com/x/zG8WgWkL/\">"
   ]
  },
  {
   "cell_type": "markdown",
   "id": "68516f75-d998-45fd-88a9-9853653a2cab",
   "metadata": {},
   "source": [
    "- The ES has seen 7 red candles (out of last 8)\n",
    "- The daily RSI is at 29.87\n",
    "- Its also at the lower end of the down trend channel.\n",
    "- The ES is down 105 points or 2.5% down from October 24th High\n",
    "- So although we are brearish on the ES we could still see a bounce from these levels as inventory gets rebalanced. \n",
    "- A bounce back to the 200DMA is possible, we will have to first see the ES trade above 4200 to see any meaningful short cover rally.\n",
    "- For now the posture is to remain short\n",
    "\n",
    "<img src=\"https://www.tradingview.com/x/ISGWK7QG/\">"
   ]
  },
  {
   "cell_type": "markdown",
   "id": "54f5f33c-c619-4473-8c6b-c8bccae25710",
   "metadata": {},
   "source": [
    "#### Update 9:27AM\n",
    "\n",
    "- Went short 40 ES at 4198.\n"
   ]
  },
  {
   "cell_type": "code",
   "execution_count": null,
   "id": "bf5a41e6-4176-42cc-af49-3345adceed00",
   "metadata": {},
   "outputs": [],
   "source": []
  }
 ],
 "metadata": {
  "kernelspec": {
   "display_name": "Python 3 (ipykernel)",
   "language": "python",
   "name": "python3"
  },
  "language_info": {
   "codemirror_mode": {
    "name": "ipython",
    "version": 3
   },
   "file_extension": ".py",
   "mimetype": "text/x-python",
   "name": "python",
   "nbconvert_exporter": "python",
   "pygments_lexer": "ipython3",
   "version": "3.10.11"
  }
 },
 "nbformat": 4,
 "nbformat_minor": 5
}
