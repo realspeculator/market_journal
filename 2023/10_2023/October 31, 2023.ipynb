{
 "cells": [
  {
   "cell_type": "markdown",
   "id": "d84c3783-f17f-4658-aacc-46f4af2dbffb",
   "metadata": {},
   "source": [
    "#### October 31, 2023\n",
    "\n",
    "\n",
    "#### Update 5AM\n",
    "- Long term bonds are showing signs of breakout\n",
    "- Bought 100 ZB\n",
    "- ES is also back close to th 4190 level\n",
    "- For us the 4200 level is key, a convincing break above 4200 will get us interested to add to our long positions\n"
   ]
  }
 ],
 "metadata": {
  "kernelspec": {
   "display_name": "Python 3 (ipykernel)",
   "language": "python",
   "name": "python3"
  },
  "language_info": {
   "codemirror_mode": {
    "name": "ipython",
    "version": 3
   },
   "file_extension": ".py",
   "mimetype": "text/x-python",
   "name": "python",
   "nbconvert_exporter": "python",
   "pygments_lexer": "ipython3",
   "version": "3.10.11"
  }
 },
 "nbformat": 4,
 "nbformat_minor": 5
}
