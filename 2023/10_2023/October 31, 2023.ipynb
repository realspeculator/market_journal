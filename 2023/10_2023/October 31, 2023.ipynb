{
 "cells": [
  {
   "cell_type": "markdown",
   "id": "d84c3783-f17f-4658-aacc-46f4af2dbffb",
   "metadata": {
    "tags": []
   },
   "source": [
    "### October 31, 2023\n",
    "\n",
    "\n",
    "#### Update 5AM\n",
    "- Long term bonds are showing signs of breakout\n",
    "- Bought 100 ZB\n",
    "- ES is also back close to th 4190 level\n",
    "- For us the 4200 level is key, a convincing break above 4200 will get us interested to add to our long positions\n"
   ]
  },
  {
   "cell_type": "markdown",
   "id": "3108a2c3-0e07-4fe2-9b7f-9bf2c0264cca",
   "metadata": {},
   "source": [
    "#### Update 6AM\n",
    "\n",
    "- ZB and ES are continuing to rally\n",
    "- ES is still under the 4200 level\n",
    "- ZB has resistance around 110'15"
   ]
  },
  {
   "cell_type": "markdown",
   "id": "11ebeb2f-e993-4b12-b8b1-74adedf30570",
   "metadata": {},
   "source": [
    "#### Update 6:24AM\n",
    "\n",
    "<img src=\"https://www.tradingview.com/x/lV9PZWw4/\">\n",
    "\n",
    "- We closed the long ES at 4195 as we are coming into some resistance at this ~4200 level\n",
    "- We will buy the ES again if we see a clear breakout of this level\n",
    "- Also note we are not shorting at this level \n",
    "- We are just going to watch if value gets created between 4195 - 4210"
   ]
  },
  {
   "cell_type": "code",
   "execution_count": null,
   "id": "7768c8bb-0085-441b-8643-25124d352249",
   "metadata": {},
   "outputs": [],
   "source": []
  }
 ],
 "metadata": {
  "kernelspec": {
   "display_name": "Python 3 (ipykernel)",
   "language": "python",
   "name": "python3"
  },
  "language_info": {
   "codemirror_mode": {
    "name": "ipython",
    "version": 3
   },
   "file_extension": ".py",
   "mimetype": "text/x-python",
   "name": "python",
   "nbconvert_exporter": "python",
   "pygments_lexer": "ipython3",
   "version": "3.10.11"
  }
 },
 "nbformat": 4,
 "nbformat_minor": 5
}
