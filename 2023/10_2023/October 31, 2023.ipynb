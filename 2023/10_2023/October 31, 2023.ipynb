{
 "cells": [
  {
   "cell_type": "markdown",
   "id": "d84c3783-f17f-4658-aacc-46f4af2dbffb",
   "metadata": {
    "tags": []
   },
   "source": [
    "### October 31, 2023\n",
    "\n",
    "\n",
    "#### Update 5AM\n",
    "- Long term bonds are showing signs of breakout\n",
    "- Bought 100 ZB\n",
    "- ES is also back close to th 4190 level\n",
    "- For us the 4200 level is key, a convincing break above 4200 will get us interested to add to our long positions\n"
   ]
  },
  {
   "cell_type": "markdown",
   "id": "3108a2c3-0e07-4fe2-9b7f-9bf2c0264cca",
   "metadata": {},
   "source": [
    "#### Update 6AM\n",
    "\n",
    "- ZB and ES are continuing to rally\n",
    "- ES is still under the 4200 level\n",
    "- ZB has resistance around 110'15"
   ]
  },
  {
   "cell_type": "markdown",
   "id": "11ebeb2f-e993-4b12-b8b1-74adedf30570",
   "metadata": {},
   "source": [
    "#### Update 6:24AM\n",
    "\n",
    "<img src=\"https://www.tradingview.com/x/a36hpUIs/\">\n",
    "\n",
    "- We closed the long ES at 4195 as we are coming into some resistance at this ~4200 level\n",
    "- We will buy the ES again if we see a clear breakout of this level\n",
    "- Also note we are not shorting at this level \n",
    "- We are just going to watch if value gets created between 4195 - 4210\n",
    "\n",
    "- We do see a reversal cup and handle formation getting developed in the SPY after hour session\n",
    "- As a result we could see a good rally if we do break out of this 4195-4210 (on the ES) range. We use SPY chart as Tradingview gives realtime price action on SPY vs ES, but they are essentially the same."
   ]
  },
  {
   "cell_type": "markdown",
   "id": "baaef158-9dcd-40bf-a055-dfb8a29febcf",
   "metadata": {},
   "source": [
    "#### Update 7:22AM\n",
    "\n",
    "- We saw a good balance between 5:45AM to 7:20AM on the ES where prices hovered in a 5 point range.\n",
    "- We initiated a small buy (100 ES) which is 20% of what we intend to buy in the ES at this level\n",
    "- We will keep adding to this position at each 5 points higher interval, as we believe we could see a short cover rally upto 4250 if we clear the ~4200 level."
   ]
  },
  {
   "cell_type": "markdown",
   "id": "d1d21209-5369-43be-bdf2-16b3568cca22",
   "metadata": {},
   "source": [
    "#### Update 8:30AM\n",
    "\n",
    "- The Employment cost index came in higher than expected (higher inflation than expected)\n",
    "- This data release disturbed the balance area (4193 - 4199) that was getting formed from 5:45AM to 830AM\n",
    "- We are still holding the long position\n"
   ]
  },
  {
   "cell_type": "markdown",
   "id": "211096dc-1248-4ee8-ac48-c69b60d0ba7f",
   "metadata": {},
   "source": [
    "#### Update 8:49AM\n",
    "\n",
    "- Bought 100 ZB more on this post econ data release."
   ]
  },
  {
   "cell_type": "markdown",
   "id": "ad2a4466-657e-481e-b4cd-c9a42ef0b760",
   "metadata": {},
   "source": [
    "#### Update 8:55AM Possible Crude short trade re-visited\n",
    "\n",
    "<img src=\"https://www.tradingview.com/x/2iYZjRkh/\">\n",
    "\n",
    "- Currently we hold a small short position in CL\n",
    "- Crude was expected to rally given the conflict in the ME\n",
    "- But instead we have been balancing between 82 - 86 range for the past 5 trading days\n",
    "- We are looking for a break below 81.5 to add to our short position\n",
    "- Initial target will be 78."
   ]
  },
  {
   "cell_type": "code",
   "execution_count": null,
   "id": "ac519393-86c5-4263-80d8-2d90e38a3db6",
   "metadata": {},
   "outputs": [],
   "source": []
  }
 ],
 "metadata": {
  "kernelspec": {
   "display_name": "Python 3 (ipykernel)",
   "language": "python",
   "name": "python3"
  },
  "language_info": {
   "codemirror_mode": {
    "name": "ipython",
    "version": 3
   },
   "file_extension": ".py",
   "mimetype": "text/x-python",
   "name": "python",
   "nbconvert_exporter": "python",
   "pygments_lexer": "ipython3",
   "version": "3.10.11"
  }
 },
 "nbformat": 4,
 "nbformat_minor": 5
}
