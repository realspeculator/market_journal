{
 "cells": [
  {
   "cell_type": "markdown",
   "id": "8b5cc1ff-47ca-4e2f-a78a-a3e9786e1e56",
   "metadata": {},
   "source": [
    "### October 5, 2023"
   ]
  },
  {
   "cell_type": "markdown",
   "id": "56d41dfd-b39f-4939-bf14-959616b28372",
   "metadata": {},
   "source": [
    "- Yesterday we attempted to go long on the breakout of the 4277 pivot point on the S&P 500, but the market kept pulling lower and value was getting created in Oct 3rd day range.\n",
    "- So we took a 5 point loss and closed the trade around 2pm.\n",
    "- However the S&P 500 rallied into close and we traded above the 4300 level.\n",
    "- 4300 is now the new resistance level and we wanted to see how markets react at this.\n",
    "- The initial reaction to 4300 is selloff of 17 handles.\n",
    "- Now we are trying to find balance between the 4275 - 4300 level on the ES\n",
    "- TICK are remaining in the positive territory , the are not high (+1000) nor low (-1000). Just close to 0, so is the AD line and AD Vol\n",
    "- We will still monitor the cup and handle formation that we are seeing in the SPY and observe if we see any progress.\n",
    "\n",
    "<img src=\"https://www.tradingview.com/x/55BSDoQR/\">"
   ]
  },
  {
   "cell_type": "markdown",
   "id": "4d947a49-f5c9-4568-b3ab-a894a05d892e",
   "metadata": {},
   "source": [
    "#### Update 10:35AM Short ES @ 4278\n",
    "\n",
    "- It appears that we are going to break the lows and go back into yesterday's range (Nasdaq) is already doing it. Could trade as low as yesterday's low."
   ]
  },
  {
   "cell_type": "markdown",
   "id": "27bfd058-72e9-4888-8e77-ac58acba0363",
   "metadata": {},
   "source": [
    "#### Update 11:10AM\n",
    "\n",
    "- We traded as low as 4257, that was a 20 point swing from where we shorted.\n",
    "- The difficult choice now is whether to close the trade and lose our position or continue to hold expecting ES to fall to 4200 level.\n",
    "- We think its possible to trade to the lows to yesterday and beyond. So we will continue to hold our short position.\n"
   ]
  },
  {
   "cell_type": "code",
   "execution_count": null,
   "id": "15c5b2ec-8df1-4255-b8c3-3e8c51836bd0",
   "metadata": {},
   "outputs": [],
   "source": []
  }
 ],
 "metadata": {
  "kernelspec": {
   "display_name": "Python 3 (ipykernel)",
   "language": "python",
   "name": "python3"
  },
  "language_info": {
   "codemirror_mode": {
    "name": "ipython",
    "version": 3
   },
   "file_extension": ".py",
   "mimetype": "text/x-python",
   "name": "python",
   "nbconvert_exporter": "python",
   "pygments_lexer": "ipython3",
   "version": "3.10.11"
  }
 },
 "nbformat": 4,
 "nbformat_minor": 5
}
