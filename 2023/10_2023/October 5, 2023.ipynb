{
 "cells": [
  {
   "cell_type": "markdown",
   "id": "8b5cc1ff-47ca-4e2f-a78a-a3e9786e1e56",
   "metadata": {},
   "source": [
    "### October 5, 2023"
   ]
  },
  {
   "cell_type": "markdown",
   "id": "56d41dfd-b39f-4939-bf14-959616b28372",
   "metadata": {},
   "source": [
    "- Yesterday we attempted to go long on the breakout of the 4277 pivot point on the S&P 500, but the market kept pulling lower and value was getting created in Oct 3rd day range.\n",
    "- So we took a 5 point loss and closed the trade around 2pm.\n",
    "- However the S&P 500 rallied into close and we traded above the 4300 level.\n",
    "- 4300 is now the new resistance level and we wanted to see how markets react at this.\n",
    "- The initial reaction to 4300 is selloff of 17 handles.\n",
    "- Now we are trying to find balance between the 4275 - 4300 level on the ES\n",
    "- TICK are remaining in the positive territory , the are not high (+1000) nor low (-1000). Just close to 0, so is the AD line and AD Vol\n",
    "- We will still monitor the cup and handle formation that we are seeing in the SPY and observe if we see any progress.\n",
    "\n",
    "<img src=\"https://www.tradingview.com/x/55BSDoQR/\">"
   ]
  },
  {
   "cell_type": "code",
   "execution_count": null,
   "id": "d054749c-fbc3-40b5-b68d-f8fc923b5989",
   "metadata": {},
   "outputs": [],
   "source": []
  }
 ],
 "metadata": {
  "kernelspec": {
   "display_name": "Python 3 (ipykernel)",
   "language": "python",
   "name": "python3"
  },
  "language_info": {
   "codemirror_mode": {
    "name": "ipython",
    "version": 3
   },
   "file_extension": ".py",
   "mimetype": "text/x-python",
   "name": "python",
   "nbconvert_exporter": "python",
   "pygments_lexer": "ipython3",
   "version": "3.10.11"
  }
 },
 "nbformat": 4,
 "nbformat_minor": 5
}
