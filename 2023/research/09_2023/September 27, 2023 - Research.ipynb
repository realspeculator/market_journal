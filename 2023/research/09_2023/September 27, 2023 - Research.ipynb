{
 "cells": [
  {
   "cell_type": "markdown",
   "id": "2eba348e-31ff-4f6b-8a8b-ce23fc374dbc",
   "metadata": {},
   "source": [
    "## September 27, 2023"
   ]
  },
  {
   "cell_type": "markdown",
   "id": "077a63d4-a358-4b07-a65f-087c29821d3e",
   "metadata": {},
   "source": [
    "## Long term market view"
   ]
  },
  {
   "cell_type": "markdown",
   "id": "51080c27-9419-46e3-8b8e-91c1ca6147d9",
   "metadata": {},
   "source": [
    "Lets start by looking at the 5 year QQQ chart. We can see that QQQ is trading at the low end of it current balance area."
   ]
  },
  {
   "cell_type": "markdown",
   "id": "d10d79df-0eba-4c38-9649-0f202f8da031",
   "metadata": {},
   "source": [
    " <img src=\"https://s3.tradingview.com/snapshots/y/YbCXEwq7.png\">"
   ]
  },
  {
   "cell_type": "markdown",
   "id": "2b2bf1a4-af7b-48c6-920b-9172448ffb13",
   "metadata": {},
   "source": []
  }
 ],
 "metadata": {
  "kernelspec": {
   "display_name": "Python 3 (ipykernel)",
   "language": "python",
   "name": "python3"
  },
  "language_info": {
   "codemirror_mode": {
    "name": "ipython",
    "version": 3
   },
   "file_extension": ".py",
   "mimetype": "text/x-python",
   "name": "python",
   "nbconvert_exporter": "python",
   "pygments_lexer": "ipython3",
   "version": "3.10.11"
  }
 },
 "nbformat": 4,
 "nbformat_minor": 5
}
